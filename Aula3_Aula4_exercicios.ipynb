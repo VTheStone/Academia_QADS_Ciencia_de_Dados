{
  "nbformat": 4,
  "nbformat_minor": 5,
  "metadata": {
    "kernelspec": {
      "display_name": "Python 3",
      "language": "python",
      "name": "python3"
    },
    "language_info": {
      "codemirror_mode": {
        "name": "ipython",
        "version": 3
      },
      "file_extension": ".py",
      "mimetype": "text/x-python",
      "name": "python",
      "nbconvert_exporter": "python",
      "pygments_lexer": "ipython3",
      "version": "3.8.5"
    },
    "colab": {
      "name": "Aula3-Aula4_exercicios.ipynb",
      "provenance": []
    }
  },
  "cells": [
    {
      "cell_type": "markdown",
      "metadata": {
        "id": "9898ca93"
      },
      "source": [
        "# Exercícios - Aula 03 e Aula 04\n",
        "___\n",
        "\n",
        "1. Escreva uma função python que receba uma lista e separe os múltiplos de 5. Ao final ela retorna a soma de todos os valores da lista de entrada que são múltiplos de 5.\n",
        "\n",
        "2. Escreva uma função para verificar se uma palavra é um palíndromo e retorne 1 em caso positivo e 0 (zero) em caso negativo.\n",
        "\n",
        "3. Escreva uma função que receba uma lista crie um dicionário com a contagem dos valores dessa lista.\n",
        "\n",
        "4. Escreva uma função que receba uma lista de listas, itere sobre cada lista, some seus valores, gere uma segunda lista e descubra o desvio padrão dela.\n",
        "\n",
        "entrada : [[12,12,5,6,3,6,8,5,5,5],[3,3,3,3,4,4,15,89,20,20],[15,15,15,20,30,35,35,35,15,15],[10,10,10,10,15,15,15,15],[5,5,2,2],[8,8,89,89,898,1000]]\n",
        "\n",
        "5. Escreva uma função que gere uma sequencia de Fibonnaci. O único parâmetro é a quantidade de números que devem gerados. (Fibonnaci é uma sequencia onde o próximo número é a soma dos dois imediatamente anteriores a ele).\n",
        "\n",
        "6. Monte uma função que vai calcular e comparar os custos de uma viagem para 3 cidades diferentes e que, ao final, irá recomendar qual é o destino mais barato. Essa função deve receber somente uma parâmetro 'noites'. A partir desse argumento a função deve calcular o custo total de viagem para cada uma das cidades. Utilize os dados abaixo.\n",
        "\n",
        "|   Cidade  | Hotel/noite | Alimentação/noite | Locomoção/noite |\n",
        "|:---------:|:-----------:|:-----------------:|:---------------:|\n",
        "| Abu Dhabi |     1300    |        200        |       150       |\n",
        "|  Genebra  |     1200    |        150        |        80       |\n",
        "|    Oslo   |     1000    |        250        |       100       |\n",
        "\n",
        "7. Defina uma função que calcule o z-score de todos os valores de uma lista e encontre quem são os outliers (z-score abaixo de -3 e acima de 3). Use a lista abaixo:\n",
        "\n",
        "lista = [201, 102, -5558, 232, 213, -9249, -247, 1183, 211, 7598, 130, 61, 192, 207, -46, 170, 116, 106, 225, 75, 138, 107, 108, -33, -9, 170, 147, 175, 137, -5, -9, 16600, 171, 183, 147, 171, 143, 104, 7, 227, 127, 173, 178, 194, 110, 20, 99, 11, 41, 242, 250, 62, 230, -32, 239, 241, 30, -35, 132, 214, 58, 90, -12, -24, 177, 116, 53, -26, 144, 29, 41, 217, 114, 109, -15, 32, 110, 162, 221, -16, 210, 87, 76, 3100, 73, 174, 194, 93, -9, 241, 234, 79, -4800, -22, -41, 224, 249, 114, -29, 79]\n",
        "\n",
        "8. Defina uma função que recebe uma lista aplica a fórmula abaixo a cada um dos valores e retorna uma lista com o resultado.\n",
        "\n",
        "![minmax](https://androidkt.com/wp-content/uploads/2020/10/Selection_060.png)\n",
        "\n",
        "\n",
        "9. Escreva um código que dê print em todos os quadrados dos valores de 0 a 10.\n",
        "\n",
        "10. Escreva um código que encontre a soma de todos os valores pares de 0 a 10.\n",
        "\n",
        "11. Construa uma função que receba 3 valores (a,b,c) e retorne uma lista com todos os valores entre 'a' e 'b' que são múltiplos de 'c'. Utilize os valores abaixo (10,500,23).\n",
        "\n",
        "12. Escreva um código para ter o seguinte output:\n",
        "    \n",
        "    1 ---- 99\n",
        "    2 ---- 98\n",
        "    3 ---- 97\n",
        "    4 ---- 96\n",
        "    .\n",
        "    .\n",
        "    .\n",
        "    99 ---- 1\n",
        "    \n",
        "13. Construa uma função que receba um input e printe um padrão conforme exemplo.\n",
        "\n",
        "input = 5\n",
        "\n",
        "output:\n",
        "\n",
        "+<br>\n",
        "++<br>\n",
        "+++<br>\n",
        "++++<br>\n",
        "+++++\n",
        "\n",
        "\n",
        "14. Itere sobre a lista abaixo e crie uma nova lista com todos os nomes em letras maisculuas e com underline ao invés de espaços. Dica: utilize compreensão de listas.\n",
        "\n",
        "lista_nomes = ['Geralt de Rívia','Yennefer de Vengerberd','Triss Marigold','Emhyr var Emreis','Jaskier o bardo']\n",
        "\n",
        "15. Voce é um jogador de tênis. Para decidir se você vai treinar hoje você deve avaliar duas coisas: o tempo e a temperatura. Crie um programa para saber se você deve ou não treinar hoje de acordo com as seguintes especificações: \n",
        "\n",
        "- Tempo: chuvoso -> não jogar\n",
        "- Tempo: ensolarado ou nublado -> jogar\n",
        "- Temperatura maior ou igual a 15 graus e tempo ensolarado ou nublado -> jogar\n",
        "- Temperatura menor que 15 graus e tempo ensolarado ou nublado -> não jogar\n",
        "\n",
        "Se o dia estiver ensolarado e a temperatura for de 16 graus. Você irá ou não jogar?\n",
        "\n",
        "16. Pesquise e use a função ```zip()``` para juntar as duas listas abaixo.\n",
        "\n",
        "nomes = ['nasser','joao','mateus']\n",
        "salarios = [1000,1500,5000]\n",
        "\n",
        "17. Considera as duas listas abaixo, a primeira demonstra o valor real de venda de uma casa e a segunda demonstra o valor recomendado por um modelo de regressão. Gere uma terceira lista com o resíduo de cada ponto. O resíduo é o resultado da subtração entre o valor real e o valor predito para determinado ponto.\n",
        "\n",
        "real = [150358,368525,532152,144789]\n",
        "predito = [162122,365255,533200,185789]\n",
        "\n",
        "18. Ainda usando os dados da questao 17 calcule, sem utilizar bibliotecas, o RMSE do valor predito. Referência: https://tinyurl.com/yd9ljcmj"
      ],
      "id": "9898ca93"
    },
    {
      "cell_type": "markdown",
      "metadata": {
        "id": "N5U1l4pxAy9o"
      },
      "source": [
        "# Resolução"
      ],
      "id": "N5U1l4pxAy9o"
    },
    {
      "cell_type": "markdown",
      "metadata": {
        "id": "89QTEVghAmXz"
      },
      "source": [
        "1. Escreva uma função python que receba uma lista e separe os múltiplos de 5. Ao final ela retorna a soma de todos os valores da lista de entrada que são múltiplos de 5."
      ],
      "id": "89QTEVghAmXz"
    },
    {
      "cell_type": "code",
      "metadata": {
        "id": "7LImFfzJAt5P",
        "colab": {
          "base_uri": "https://localhost:8080/"
        },
        "outputId": "2d09b432-07e0-4b62-d672-c7307195f5cb"
      },
      "source": [
        "def separe_multiplos(lista):\n",
        "  soma = 0\n",
        "\n",
        "  for elemento in lista:\n",
        "    if elemento%5 == 0:\n",
        "      soma = soma + elemento\n",
        "\n",
        "  return soma\n",
        "\n",
        "separe_multiplos([1, 5, 10])"
      ],
      "id": "7LImFfzJAt5P",
      "execution_count": 1,
      "outputs": [
        {
          "output_type": "execute_result",
          "data": {
            "text/plain": [
              "15"
            ]
          },
          "metadata": {
            "tags": []
          },
          "execution_count": 1
        }
      ]
    },
    {
      "cell_type": "markdown",
      "metadata": {
        "id": "O9STIrL8A6GZ"
      },
      "source": [
        "2. Escreva uma função para verificar se uma palavra é um palíndromo e retorne 1 em caso positivo e 0 (zero) em caso negativo."
      ],
      "id": "O9STIrL8A6GZ"
    },
    {
      "cell_type": "code",
      "metadata": {
        "id": "2ik7sOekA8wI",
        "colab": {
          "base_uri": "https://localhost:8080/"
        },
        "outputId": "def5630d-2f3e-4678-9b6c-f394f09da16a"
      },
      "source": [
        "palavra = input('Digite uma palavra: ')\n",
        "\n",
        "def palindromo(palavra):\n",
        "  if palavra == palavra[::-1]:\n",
        "    print(1)\n",
        "  else:\n",
        "    print(0)\n",
        "\n",
        "palindromo(palavra)"
      ],
      "id": "2ik7sOekA8wI",
      "execution_count": 12,
      "outputs": [
        {
          "output_type": "stream",
          "text": [
            "Digite uma palavra: tenet\n",
            "1\n"
          ],
          "name": "stdout"
        }
      ]
    },
    {
      "cell_type": "markdown",
      "metadata": {
        "id": "osZX3oRGA9IJ"
      },
      "source": [
        "3. Escreva uma função que receba uma lista crie um dicionário com a contagem dos valores dessa lista."
      ],
      "id": "osZX3oRGA9IJ"
    },
    {
      "cell_type": "code",
      "metadata": {
        "id": "hO0nBcKCA_AK",
        "colab": {
          "base_uri": "https://localhost:8080/"
        },
        "outputId": "d7605be7-4417-4c0d-8b46-08873de87fc1"
      },
      "source": [
        "def dicionario_valores(lista: list):\n",
        "  contagem = len(lista)\n",
        "  dicionario = {'Contagem': contagem}\n",
        "\n",
        "  return dicionario\n",
        "\n",
        "dicionario_valores([1,2,4,5])"
      ],
      "id": "hO0nBcKCA_AK",
      "execution_count": 13,
      "outputs": [
        {
          "output_type": "execute_result",
          "data": {
            "text/plain": [
              "{'Contagem': 4}"
            ]
          },
          "metadata": {
            "tags": []
          },
          "execution_count": 13
        }
      ]
    },
    {
      "cell_type": "markdown",
      "metadata": {
        "id": "EKx8EDJmA_ag"
      },
      "source": [
        "4. Escreva uma função que receba uma lista de listas, itere sobre cada lista, some seus valores, gere uma segunda lista e descubra o desvio padrão dela.\n",
        "\n",
        "entrada : [[12,12,5,6,3,6,8,5,5,5],[3,3,3,3,4,4,15,89,20,20],[15,15,15,20,30,35,35,35,15,15],[10,10,10,10,15,15,15,15],[5,5,2,2],[8,8,89,89,898,1000]]"
      ],
      "id": "EKx8EDJmA_ag"
    },
    {
      "cell_type": "code",
      "metadata": {
        "id": "Iy-hWtipAmxz",
        "colab": {
          "base_uri": "https://localhost:8080/"
        },
        "outputId": "6f572d52-6cb7-4a4b-a5dc-a45082af4d94"
      },
      "source": [
        "def soma_listas(lista_lista: list):\n",
        "  lista_de_somas = []\n",
        "  for lista in lista_lista:\n",
        "    lista_de_somas.append(sum(lista))\n",
        "\n",
        "  return lista_de_somas\n",
        "\n",
        "soma_listas([[12,12,5,6,3,6,8,5,5,5],[3,3,3,3,4,4,15,89,20,20],[15,15,15,20,30,35,35,35,15,15],[10,10,10,10,15,15,15,15],[5,5,2,2],[8,8,89,89,898,1000]])"
      ],
      "id": "Iy-hWtipAmxz",
      "execution_count": 19,
      "outputs": [
        {
          "output_type": "execute_result",
          "data": {
            "text/plain": [
              "[67, 164, 230, 100, 14, 2092]"
            ]
          },
          "metadata": {
            "tags": []
          },
          "execution_count": 19
        }
      ]
    },
    {
      "cell_type": "markdown",
      "metadata": {
        "id": "q39MHkutBDdn"
      },
      "source": [
        "5. Escreva uma função que gere uma sequencia de Fibonnaci. O único parâmetro é a quantidade de números que devem gerados. (Fibonnaci é uma sequencia onde o próximo número é a soma dos dois imediatamente anteriores a ele)."
      ],
      "id": "q39MHkutBDdn"
    },
    {
      "cell_type": "code",
      "metadata": {
        "id": "cJ6KkVn5BFoz",
        "colab": {
          "base_uri": "https://localhost:8080/"
        },
        "outputId": "4f2dc915-ccb0-4436-9358-19d586c77613"
      },
      "source": [
        "def sequencia_fibonnaci(numeros):\n",
        "  numero_1 = 0\n",
        "  numero_2 = 1\n",
        "  if numeros <= 0:\n",
        "    print('Funciona apenas para números maiores que zero')\n",
        "  elif numeros > 0:\n",
        "    for numero in range(numeros):\n",
        "      print(numero_1)\n",
        "      n = numero_1 + numero_2 \n",
        "      numero_1 = numero_2\n",
        "      numero_2 = n\n",
        "  else:\n",
        "    print('Não é um número')\n",
        "\n",
        "sequencia_fibonnaci(11)"
      ],
      "id": "cJ6KkVn5BFoz",
      "execution_count": 31,
      "outputs": [
        {
          "output_type": "stream",
          "text": [
            "0\n",
            "1\n",
            "1\n",
            "2\n",
            "3\n",
            "5\n",
            "8\n",
            "13\n",
            "21\n",
            "34\n",
            "55\n"
          ],
          "name": "stdout"
        }
      ]
    },
    {
      "cell_type": "markdown",
      "metadata": {
        "id": "t4QR-uHlBGF_"
      },
      "source": [
        "6. Monte uma função que vai calcular e comparar os custos de uma viagem para 3 cidades diferentes e que, ao final, irá recomendar qual é o destino mais barato. Essa função deve receber somente uma parâmetro 'noites'. A partir desse argumento a função deve calcular o custo total de viagem para cada uma das cidades. Utilize os dados abaixo.\n",
        "\n",
        "|   Cidade  | Hotel/noite | Alimentação/noite | Locomoção/noite |\n",
        "|:---------:|:-----------:|:-----------------:|:---------------:|\n",
        "| Abu Dhabi |     1300    |        200        |       150       |\n",
        "|  Genebra  |     1200    |        150        |        80       |\n",
        "|    Oslo   |     1000    |        250        |       100       |"
      ],
      "id": "t4QR-uHlBGF_"
    },
    {
      "cell_type": "code",
      "metadata": {
        "id": "jKBmf1c7BDKu",
        "colab": {
          "base_uri": "https://localhost:8080/"
        },
        "outputId": "bb64acc6-facf-4a70-9a81-056f559288f3"
      },
      "source": [
        "def comparar_custos(noites):\n",
        "  \n",
        "  cidades = ['Abu Dhabi', 'Genebra','Oslo']\n",
        "  custos = [[1300, 200, 150], [1200, 150, 80], [1000, 250, 100]]\n",
        "  custos_cidades = dict(zip(cidades, custos))\n",
        "  custos_totais = []\n",
        "\n",
        "  for cidade in custos_cidades.keys():\n",
        "    total = 0\n",
        "    total = (custos_cidades.get(cidade)[0] * noites) + (custos_cidades.get(cidade)[1] * noites) + (custos_cidades.get(cidade)[2] * noites)\n",
        "    custos_totais.append(total)\n",
        "\n",
        "  custos_cidades_totais = dict(zip(cidades, custos_totais))\n",
        "\n",
        "  cidade_mais_barata = min(custos_cidades_totais, key = custos_cidades_totais.get)\n",
        "  custo_cidade_mais_barata = custos_cidades_totais.get(cidade_mais_barata)\n",
        "\n",
        "  print(f'O destino mais barato é {cidade_mais_barata}, com o custo de {custo_cidade_mais_barata}')\n",
        "\n",
        "comparar_custos(4)"
      ],
      "id": "jKBmf1c7BDKu",
      "execution_count": 73,
      "outputs": [
        {
          "output_type": "stream",
          "text": [
            "O destino mais barato é Oslo, com o custo de 5400\n"
          ],
          "name": "stdout"
        }
      ]
    },
    {
      "cell_type": "markdown",
      "metadata": {
        "id": "DyeISmGKBJV8"
      },
      "source": [
        "7. Defina uma função que calcule o z-score de todos os valores de uma lista e encontre quem são os outliers (z-score abaixo de -3 e acima de 3). Use a lista abaixo:\n",
        "\n",
        "lista = [201, 102, -5558, 232, 213, -9249, -247, 1183, 211, 7598, 130, 61, 192, 207, -46, 170, 116, 106, 225, 75, 138, 107, 108, -33, -9, 170, 147, 175, 137, -5, -9, 16600, 171, 183, 147, 171, 143, 104, 7, 227, 127, 173, 178, 194, 110, 20, 99, 11, 41, 242, 250, 62, 230, -32, 239, 241, 30, -35, 132, 214, 58, 90, -12, -24, 177, 116, 53, -26, 144, 29, 41, 217, 114, 109, -15, 32, 110, 162, 221, -16, 210, 87, 76, 3100, 73, 174, 194, 93, -9, 241, 234, 79, -4800, -22, -41, 224, 249, 114, -29, 79]"
      ],
      "id": "DyeISmGKBJV8"
    },
    {
      "cell_type": "code",
      "metadata": {
        "id": "-vilsUYnBLSp",
        "colab": {
          "base_uri": "https://localhost:8080/"
        },
        "outputId": "bf0599d9-2d16-4096-f111-c59483553ac4"
      },
      "source": [
        "def media(x):\n",
        "  soma = sum(x)\n",
        "  tamanho = len(x)\n",
        "  media = soma / tamanho\n",
        "  return media\n",
        "\n",
        "def desvio_padrao(x):\n",
        "\n",
        "  valor_menos_media = []\n",
        "  for n in x:\n",
        "    valor_menos_media.append((n - media(x)) ** 2)\n",
        "  soma = sum(valor_menos_media)\n",
        "  tamanho = len(valor_menos_media)\n",
        "  valor_dividido_n = soma / tamanho\n",
        "\n",
        "  desvio_padrao = (valor_dividido_n) ** (1/2)\n",
        "  return desvio_padrao\n",
        "\n",
        "def z_score_outliers(lista):\n",
        "  z_score = []\n",
        "  outliers = []\n",
        "\n",
        "  for elemento in lista:\n",
        "    z = (elemento - media(lista))/desvio_padrao(lista)\n",
        "    z_score.append(z) \n",
        "    \n",
        "  z_score_valores = dict(zip(lista, z_score))\n",
        "\n",
        "  for key, value in z_score_valores.items():\n",
        "    if value > 3 or value < -3: \n",
        "      outliers.append(key)\n",
        "\n",
        "  print(f'Os valores que são outliers são: {outliers}')\n",
        "\n",
        "lista = [201, 102, -5558, 232, 213, -9249, -247, 1183, 211, 7598, 130, 61, 192, 207, -46, 170, 116, 106, 225, 75, 138, 107, 108, -33, -9, 170, 147, 175, 137, -5, -9,\n",
        "         16600, 171, 183, 147, 171, 143, 104, 7, 227, 127, 173, 178, 194, 110, 20, 99, 11, 41, 242, 250, 62, 230, -32, 239, 241, 30, -35, 132, 214, 58, 90, -12, -24,\n",
        "         177, 116, 53, -26, 144, 29, 41, 217, 114, 109, -15, 32, 110, 162, 221, -16, 210, 87, 76, 3100, 73, 174, 194, 93, -9, 241, 234, 79, -4800, -22, -41, 224, 249,\n",
        "         114, -29, 79]\n",
        "z_score_outliers(lista)"
      ],
      "id": "-vilsUYnBLSp",
      "execution_count": 102,
      "outputs": [
        {
          "output_type": "stream",
          "text": [
            "Os valores que são outliers são: [-9249, 7598, 16600]\n"
          ],
          "name": "stdout"
        }
      ]
    },
    {
      "cell_type": "markdown",
      "metadata": {
        "id": "mp5pNPCMBMYj"
      },
      "source": [
        "8. Defina uma função que recebe uma lista aplica a fórmula abaixo a cada um dos valores e retorna uma lista com o resultado.\n",
        "\n",
        "![minmax](https://androidkt.com/wp-content/uploads/2020/10/Selection_060.png)"
      ],
      "id": "mp5pNPCMBMYj"
    },
    {
      "cell_type": "code",
      "metadata": {
        "id": "QxbvOaAuBOEw",
        "colab": {
          "base_uri": "https://localhost:8080/"
        },
        "outputId": "ff2b82aa-687c-4bfb-b6c5-27ba334ccf55"
      },
      "source": [
        "def formula(lista):\n",
        "  x_linha = []\n",
        "  for x in lista:\n",
        "    x_linha.append((x - min(lista))/(max(lista) - min(lista)))\n",
        "  return x_linha\n",
        "\n",
        "lista = [1,2,3,8]\n",
        "\n",
        "formula(lista)"
      ],
      "id": "QxbvOaAuBOEw",
      "execution_count": 103,
      "outputs": [
        {
          "output_type": "execute_result",
          "data": {
            "text/plain": [
              "[0.0, 0.14285714285714285, 0.2857142857142857, 1.0]"
            ]
          },
          "metadata": {
            "tags": []
          },
          "execution_count": 103
        }
      ]
    },
    {
      "cell_type": "markdown",
      "metadata": {
        "id": "gApgnU5vBOc8"
      },
      "source": [
        "9. Escreva um código que dê print em todos os quadrados dos valores de 0 a 10."
      ],
      "id": "gApgnU5vBOc8"
    },
    {
      "cell_type": "code",
      "metadata": {
        "id": "AFGrhYETBQCg",
        "colab": {
          "base_uri": "https://localhost:8080/"
        },
        "outputId": "a25b75d1-2c24-4d28-ea58-66e5ec934818"
      },
      "source": [
        "for i in range(10):\n",
        "  for n in range(int(i/2) + 1):\n",
        "    if (n * n) == i:\n",
        "      print(i)"
      ],
      "id": "AFGrhYETBQCg",
      "execution_count": 112,
      "outputs": [
        {
          "output_type": "stream",
          "text": [
            "0\n",
            "4\n",
            "9\n"
          ],
          "name": "stdout"
        }
      ]
    },
    {
      "cell_type": "markdown",
      "metadata": {
        "id": "lfaE1w1kBQzw"
      },
      "source": [
        "10. Escreva um código que encontre a soma de todos os valores pares de 0 a 10."
      ],
      "id": "lfaE1w1kBQzw"
    },
    {
      "cell_type": "code",
      "metadata": {
        "id": "TXWWT_zlBSbP",
        "colab": {
          "base_uri": "https://localhost:8080/"
        },
        "outputId": "eaece85b-8868-45de-e8b8-09f0f844f413"
      },
      "source": [
        "valores = []\n",
        "for i in range(10+1):\n",
        " \n",
        "  if i%2 == 0:\n",
        "    valores.append(i)\n",
        "\n",
        "soma = sum(valores)\n",
        "print(soma)"
      ],
      "id": "TXWWT_zlBSbP",
      "execution_count": 132,
      "outputs": [
        {
          "output_type": "stream",
          "text": [
            "30\n"
          ],
          "name": "stdout"
        }
      ]
    },
    {
      "cell_type": "markdown",
      "metadata": {
        "id": "hg7DBWEiBTBQ"
      },
      "source": [
        "11. Construa uma função que receba 3 valores (a,b,c) e retorne uma lista com todos os valores entre 'a' e 'b' que são múltiplos de 'c'. Utilize os valores abaixo (10,500,23)."
      ],
      "id": "hg7DBWEiBTBQ"
    },
    {
      "cell_type": "code",
      "metadata": {
        "id": "PsdGzfM2BVdO",
        "colab": {
          "base_uri": "https://localhost:8080/"
        },
        "outputId": "ed5b0947-6896-4563-e337-4212a199a9bf"
      },
      "source": [
        "def multiplos(a, b, c):\n",
        "  for n in range(a, b + 1):\n",
        "    #print(n)\n",
        "    if c%n == 0:\n",
        "      print(n)\n",
        "\n",
        "multiplos(10,500,23)"
      ],
      "id": "PsdGzfM2BVdO",
      "execution_count": 131,
      "outputs": [
        {
          "output_type": "stream",
          "text": [
            "23\n"
          ],
          "name": "stdout"
        }
      ]
    },
    {
      "cell_type": "markdown",
      "metadata": {
        "id": "SNB7psXvBWCi"
      },
      "source": [
        "12. Escreva um código para ter o seguinte output:\n",
        "    \n",
        "    1 ---- 99\n",
        "    2 ---- 98\n",
        "    3 ---- 97\n",
        "    4 ---- 96\n",
        "    .\n",
        "    .\n",
        "    .\n",
        "    99 ---- 1"
      ],
      "id": "SNB7psXvBWCi"
    },
    {
      "cell_type": "code",
      "metadata": {
        "colab": {
          "base_uri": "https://localhost:8080/"
        },
        "id": "ay2vUcsLs1Un",
        "outputId": "aeef3e23-2540-4500-912e-0ae260c74612"
      },
      "source": [
        "for i in range(1,100):\n",
        "    print(f'{i} --- {100 - i}')"
      ],
      "id": "ay2vUcsLs1Un",
      "execution_count": 134,
      "outputs": [
        {
          "output_type": "stream",
          "text": [
            "1 --- 99\n",
            "2 --- 98\n",
            "3 --- 97\n",
            "4 --- 96\n",
            "5 --- 95\n",
            "6 --- 94\n",
            "7 --- 93\n",
            "8 --- 92\n",
            "9 --- 91\n",
            "10 --- 90\n",
            "11 --- 89\n",
            "12 --- 88\n",
            "13 --- 87\n",
            "14 --- 86\n",
            "15 --- 85\n",
            "16 --- 84\n",
            "17 --- 83\n",
            "18 --- 82\n",
            "19 --- 81\n",
            "20 --- 80\n",
            "21 --- 79\n",
            "22 --- 78\n",
            "23 --- 77\n",
            "24 --- 76\n",
            "25 --- 75\n",
            "26 --- 74\n",
            "27 --- 73\n",
            "28 --- 72\n",
            "29 --- 71\n",
            "30 --- 70\n",
            "31 --- 69\n",
            "32 --- 68\n",
            "33 --- 67\n",
            "34 --- 66\n",
            "35 --- 65\n",
            "36 --- 64\n",
            "37 --- 63\n",
            "38 --- 62\n",
            "39 --- 61\n",
            "40 --- 60\n",
            "41 --- 59\n",
            "42 --- 58\n",
            "43 --- 57\n",
            "44 --- 56\n",
            "45 --- 55\n",
            "46 --- 54\n",
            "47 --- 53\n",
            "48 --- 52\n",
            "49 --- 51\n",
            "50 --- 50\n",
            "51 --- 49\n",
            "52 --- 48\n",
            "53 --- 47\n",
            "54 --- 46\n",
            "55 --- 45\n",
            "56 --- 44\n",
            "57 --- 43\n",
            "58 --- 42\n",
            "59 --- 41\n",
            "60 --- 40\n",
            "61 --- 39\n",
            "62 --- 38\n",
            "63 --- 37\n",
            "64 --- 36\n",
            "65 --- 35\n",
            "66 --- 34\n",
            "67 --- 33\n",
            "68 --- 32\n",
            "69 --- 31\n",
            "70 --- 30\n",
            "71 --- 29\n",
            "72 --- 28\n",
            "73 --- 27\n",
            "74 --- 26\n",
            "75 --- 25\n",
            "76 --- 24\n",
            "77 --- 23\n",
            "78 --- 22\n",
            "79 --- 21\n",
            "80 --- 20\n",
            "81 --- 19\n",
            "82 --- 18\n",
            "83 --- 17\n",
            "84 --- 16\n",
            "85 --- 15\n",
            "86 --- 14\n",
            "87 --- 13\n",
            "88 --- 12\n",
            "89 --- 11\n",
            "90 --- 10\n",
            "91 --- 9\n",
            "92 --- 8\n",
            "93 --- 7\n",
            "94 --- 6\n",
            "95 --- 5\n",
            "96 --- 4\n",
            "97 --- 3\n",
            "98 --- 2\n",
            "99 --- 1\n"
          ],
          "name": "stdout"
        }
      ]
    },
    {
      "cell_type": "markdown",
      "metadata": {
        "id": "hWcq3_tFs1uz"
      },
      "source": [
        "13. Construa uma função que receba um input e printe um padrão conforme exemplo.\n",
        "\n",
        "input = 5\n",
        "\n",
        "output:\n",
        "\n",
        "+<br>\n",
        "++<br>\n",
        "+++<br>\n",
        "++++<br>\n",
        "+++++"
      ],
      "id": "hWcq3_tFs1uz"
    },
    {
      "cell_type": "code",
      "metadata": {
        "id": "wibXijvPBI_8",
        "colab": {
          "base_uri": "https://localhost:8080/"
        },
        "outputId": "fdf644a1-59f2-4128-ab8b-dd0506c2bfff"
      },
      "source": [
        "valor = int(input('input: '))\n",
        "frase = '+'\n",
        "print('output:')\n",
        "for i in range(valor):\n",
        "  print(frase)\n",
        "  frase = frase + '+'"
      ],
      "id": "wibXijvPBI_8",
      "execution_count": 142,
      "outputs": [
        {
          "output_type": "stream",
          "text": [
            "input: 5\n",
            "output:\n",
            "+\n",
            "++\n",
            "+++\n",
            "++++\n",
            "+++++\n"
          ],
          "name": "stdout"
        }
      ]
    },
    {
      "cell_type": "markdown",
      "metadata": {
        "id": "7DwM98FPBYR6"
      },
      "source": [
        "14. Itere sobre a lista abaixo e crie uma nova lista com todos os nomes em letras maisculuas e com underline ao invés de espaços. Dica: utilize compreensão de listas.\n",
        "\n",
        "lista_nomes = ['Geralt de Rívia','Yennefer de Vengerberd','Triss Marigold','Emhyr var Emreis','Jaskier o bardo']"
      ],
      "id": "7DwM98FPBYR6"
    },
    {
      "cell_type": "code",
      "metadata": {
        "id": "4Zd4GHNtBZo_",
        "colab": {
          "base_uri": "https://localhost:8080/"
        },
        "outputId": "71f7e09e-37dc-44e7-ce88-a171628e1d53"
      },
      "source": [
        "lista_nomes = ['Geralt de Rívia','Yennefer de Vengerberd','Triss Marigold','Emhyr var Emreis','Jaskier o bardo']\n",
        "\n",
        "nova_lista = []\n",
        "\n",
        "for nome in range(len(lista_nomes)):\n",
        "  nova_lista.append(lista_nomes[nome].replace(' ', '_').upper())\n",
        "nova_lista"
      ],
      "id": "4Zd4GHNtBZo_",
      "execution_count": 149,
      "outputs": [
        {
          "output_type": "execute_result",
          "data": {
            "text/plain": [
              "['GERALT_DE_RÍVIA',\n",
              " 'YENNEFER_DE_VENGERBERD',\n",
              " 'TRISS_MARIGOLD',\n",
              " 'EMHYR_VAR_EMREIS',\n",
              " 'JASKIER_O_BARDO']"
            ]
          },
          "metadata": {
            "tags": []
          },
          "execution_count": 149
        }
      ]
    },
    {
      "cell_type": "markdown",
      "metadata": {
        "id": "XaRUnbDFBaLL"
      },
      "source": [
        "15. Voce é um jogador de tênis. Para decidir se você vai treinar hoje você deve avaliar duas coisas: o tempo e a temperatura. Crie um programa para saber se você deve ou não treinar hoje de acordo com as seguintes especificações: \n",
        "\n",
        "- Tempo: chuvoso -> não jogar\n",
        "- Tempo: ensolarado ou nublado -> jogar\n",
        "- Temperatura maior ou igual a 15 graus e tempo ensolarado ou nublado -> jogar\n",
        "- Temperatura menor que 15 graus e tempo ensolarado ou nublado -> não jogar\n",
        "\n",
        "Se o dia estiver ensolarado e a temperatura for de 16 graus. Você irá ou não jogar?"
      ],
      "id": "XaRUnbDFBaLL"
    },
    {
      "cell_type": "code",
      "metadata": {
        "id": "EvPFdJTBBb5F",
        "colab": {
          "base_uri": "https://localhost:8080/"
        },
        "outputId": "70d0e8fc-ac70-487f-a017-dac301a1fc1a"
      },
      "source": [
        "Tempo = 'ensolarado'\n",
        "Temperatura = 16\n",
        "\n",
        "if Tempo == 'chuvoso':\n",
        "  print('Não vá jogar!')\n",
        "elif (Tempo == 'ensolarado' or Tempo == 'nublado') and (Temperatura < 15):\n",
        "  print('Não vá jogar!')\n",
        "else:\n",
        "  print('Vá jogar!')\n"
      ],
      "id": "EvPFdJTBBb5F",
      "execution_count": 150,
      "outputs": [
        {
          "output_type": "stream",
          "text": [
            "Vá jogar!\n"
          ],
          "name": "stdout"
        }
      ]
    },
    {
      "cell_type": "markdown",
      "metadata": {
        "id": "1oi0uFFBBcRo"
      },
      "source": [
        "16. Pesquise e use a função ```zip()``` para juntar as duas listas abaixo.\n",
        "\n",
        "nomes = ['nasser','joao','mateus']\n",
        "salarios = [1000,1500,5000]"
      ],
      "id": "1oi0uFFBBcRo"
    },
    {
      "cell_type": "code",
      "metadata": {
        "id": "QsSBs44QBdb-",
        "colab": {
          "base_uri": "https://localhost:8080/"
        },
        "outputId": "cc84b3bb-0764-4ffa-fb79-ee73a06ab68c"
      },
      "source": [
        "nomes = ['nasser','joao','mateus']\n",
        "salarios = [1000,1500,5000]\n",
        "\n",
        "juntando = zip(nomes, salarios)\n",
        "\n",
        "juntando"
      ],
      "id": "QsSBs44QBdb-",
      "execution_count": 107,
      "outputs": [
        {
          "output_type": "execute_result",
          "data": {
            "text/plain": [
              "<zip at 0x7fd4fb118370>"
            ]
          },
          "metadata": {
            "tags": []
          },
          "execution_count": 107
        }
      ]
    },
    {
      "cell_type": "markdown",
      "metadata": {
        "id": "IwoSCM4yBdy4"
      },
      "source": [
        "17. Considera as duas listas abaixo, a primeira demonstra o valor real de venda de uma casa e a segunda demonstra o valor recomendado por um modelo de regressão. Gere uma terceira lista com o resíduo de cada ponto. O resíduo é o resultado da subtração entre o valor real e o valor predito para determinado ponto.\n",
        "\n",
        "real = [150358,368525,532152,144789]\n",
        "predito = [162122,365255,533200,185789]"
      ],
      "id": "IwoSCM4yBdy4"
    },
    {
      "cell_type": "code",
      "metadata": {
        "id": "zj7jRAFQBfAW",
        "colab": {
          "base_uri": "https://localhost:8080/"
        },
        "outputId": "1f36f134-a280-4c92-83d6-ecd8b1ade332"
      },
      "source": [
        "real = [150358,368525,532152,144789] \n",
        "predito = [162122,365255,533200,185789]\n",
        "residuo = []\n",
        "\n",
        "for i in range(len(real)):\n",
        "  residuo.append(real[i] - predito[i])\n",
        "\n",
        "print(residuo)"
      ],
      "id": "zj7jRAFQBfAW",
      "execution_count": 169,
      "outputs": [
        {
          "output_type": "stream",
          "text": [
            "[-11764, 3270, -1048, -41000]\n"
          ],
          "name": "stdout"
        }
      ]
    },
    {
      "cell_type": "markdown",
      "metadata": {
        "id": "NSJ_IaFFBfcE"
      },
      "source": [
        "18. Ainda usando os dados da questao 17 calcule, sem utilizar bibliotecas, o RMSE do valor predito. Referência: https://tinyurl.com/yd9ljcmj"
      ],
      "id": "NSJ_IaFFBfcE"
    },
    {
      "cell_type": "code",
      "metadata": {
        "id": "Q-bFdKQFBgDO",
        "colab": {
          "base_uri": "https://localhost:8080/"
        },
        "outputId": "ceb10f6e-3c4e-4661-8365-f776aff6cdc0"
      },
      "source": [
        "def RMSE(x):\n",
        "\n",
        "  n = len(x)\n",
        "\n",
        "  valor_menos_media = []\n",
        "  for i in x:\n",
        "    valor_menos_media.append((i - media(x)) ** 2)\n",
        "  soma = sum(valor_menos_media)\n",
        "  \n",
        "  valor_dividido_n = soma / n\n",
        "\n",
        "  rmse = (valor_dividido_n) ** (1/2)\n",
        "  return rmse\n",
        "\n",
        "RMSE(residuo)"
      ],
      "id": "Q-bFdKQFBgDO",
      "execution_count": 172,
      "outputs": [
        {
          "output_type": "execute_result",
          "data": {
            "text/plain": [
              "17266.727100119468"
            ]
          },
          "metadata": {
            "tags": []
          },
          "execution_count": 172
        }
      ]
    }
  ]
}