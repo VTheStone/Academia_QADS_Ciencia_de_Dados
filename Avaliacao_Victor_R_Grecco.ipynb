{
  "nbformat": 4,
  "nbformat_minor": 5,
  "metadata": {
    "kernelspec": {
      "display_name": "Python 3",
      "language": "python",
      "name": "python3"
    },
    "language_info": {
      "codemirror_mode": {
        "name": "ipython",
        "version": 3
      },
      "file_extension": ".py",
      "mimetype": "text/x-python",
      "name": "python",
      "nbconvert_exporter": "python",
      "pygments_lexer": "ipython3",
      "version": "3.8.8"
    },
    "colab": {
      "name": "Avaliacao_Victor_R_Grecco.ipynb",
      "provenance": [],
      "collapsed_sections": [
        "PoD2RbXkYaSK",
        "bJEWrZ2kZ-zv",
        "iDiBcWhHb90l",
        "gG6oCIHFfCCl",
        "BBCOMAMhepz_",
        "A0VgBYWpf7fF",
        "OFkgcjz4gHIx",
        "Il6kO7k2gKEe",
        "aUoXvIqZgQ3N",
        "v0_XWWU4gT-3"
      ]
    }
  },
  "cells": [
    {
      "cell_type": "markdown",
      "metadata": {
        "id": "97a8113a"
      },
      "source": [
        "# Avaliação\n",
        "\n",
        "1. Crie uma função que recebe uma lista e retorna o valor máximo e mínimo da lista (não utilize a função max() e min()).\n",
        "2. Crie uma função que recebe dois parâmetros (início e fim) e retorna uma lista com todos os valores pares entre ínicio e fim.\n",
        "3. Acesse a nota de matemática em dc3 e altere para 3.\n",
        "\n",
        "Para as questões 4 a 8 utilize o dataset 'water_potability.csv'. O dataset descreve características de uma amostra de água e na coluna 'potability' descreve se a água é ou não própria para consumo humano. Para iniciar a resolução das questões abaixo drope a coluna 'Unnamed: 0'.\n",
        "\n",
        "4. Demonstre a correlação entre todas as colunas do dataset. Qual é a coluna com maior correlação positiva com 'potability'? Desconsidere a correlação com ela mesma (valor 1.0).\n",
        "5. Crie uma série que descreve (em porcentagem) quanto cada coluna tem de valores nulos. Qual a coluna com maior porcentagem de valores nulos?\n",
        "6. Crie uma coluna dentro do dataset que descreve se 'Turbidity' está acima ou abaixo da média.\n",
        "7. Quantas amostras de água são potáveis e não potáveis, utilize a coluna criada na questão 6 como dimensão de análise.\n",
        "8. Crie um dataframe onde o índice deve ser cada estado e com duas colunas. A primeira é a porcentagem de amostras não potáveis naquele estado e a segunda é a porcentagem de amostras potáveis naquele estado. Qual é o estado com a menor porcentagem de amostras de água potável?\n",
        "9. Utlizando dados coletados da internet sobre a quantidade de habitantes de cada estado no ano 2020 responda. Qual estado, com populacao acima de 10 milhões de habitantes, tem a maior porcentagem de amostras de águas não potável?\n",
        "10. Crie o dicionário dc_states contendo como chaves os nomes de cada estado e como valor uma lista contendo o zscore aplicado a coluna \"Solids\" de todas as amostras daquele respectivo estado. Passe para função violin_plot_states o dicionário e uma lista contendo 5 estados que gostaria de análisar. Faça uma análise sucinta do resultado do gráfico."
      ],
      "id": "97a8113a"
    },
    {
      "cell_type": "markdown",
      "metadata": {
        "id": "PoD2RbXkYaSK"
      },
      "source": [
        "## 1. Crie uma função que recebe uma lista e retorna o valor máximo e mínimo da lista (não utilize a função max() e min())."
      ],
      "id": "PoD2RbXkYaSK"
    },
    {
      "cell_type": "code",
      "metadata": {
        "colab": {
          "base_uri": "https://localhost:8080/"
        },
        "id": "96mD2ZRDYims",
        "outputId": "de77f516-c708-438d-b33d-9055bdae1590"
      },
      "source": [
        "def getMaxMin(lista):\n",
        "  lista.sort()\n",
        "  valorMaximo = lista[-1]\n",
        "  valorMinimo = lista[0]\n",
        "  return valorMaximo, valorMinimo\n",
        "\n",
        "valoresTeste = [9,1,0,-3,5,4]\n",
        "getMaxMin(valoresTeste)"
      ],
      "id": "96mD2ZRDYims",
      "execution_count": 1,
      "outputs": [
        {
          "output_type": "execute_result",
          "data": {
            "text/plain": [
              "(9, -3)"
            ]
          },
          "metadata": {
            "tags": []
          },
          "execution_count": 1
        }
      ]
    },
    {
      "cell_type": "markdown",
      "metadata": {
        "id": "bJEWrZ2kZ-zv"
      },
      "source": [
        "## 2. Crie uma função que recebe dois parâmetros (início e fim) e retorna uma lista com todos os valores pares entre ínicio e fim."
      ],
      "id": "bJEWrZ2kZ-zv"
    },
    {
      "cell_type": "code",
      "metadata": {
        "colab": {
          "base_uri": "https://localhost:8080/"
        },
        "id": "goFXFRo2aAJ6",
        "outputId": "1675e9d8-d56b-4f4c-9903-c83f2177c396"
      },
      "source": [
        "def getEvenNumbersInBetween(inicio, fim):\n",
        "  valoresPares = []\n",
        "  for numeroPar in range(inicio, fim, 2):\n",
        "    valoresPares.append(numeroPar)\n",
        "  return valoresPares\n",
        "\n",
        "getEvenNumbersInBetween(2,19)"
      ],
      "id": "goFXFRo2aAJ6",
      "execution_count": 2,
      "outputs": [
        {
          "output_type": "execute_result",
          "data": {
            "text/plain": [
              "[2, 4, 6, 8, 10, 12, 14, 16, 18]"
            ]
          },
          "metadata": {
            "tags": []
          },
          "execution_count": 2
        }
      ]
    },
    {
      "cell_type": "markdown",
      "metadata": {
        "id": "iDiBcWhHb90l"
      },
      "source": [
        "## 3. Acesse a nota de matemática em dc3 e altere para 3."
      ],
      "id": "iDiBcWhHb90l"
    },
    {
      "cell_type": "code",
      "metadata": {
        "id": "3f7ef2cc"
      },
      "source": [
        "dc3 = { \n",
        "   \"turma\":{ \n",
        "      \"aluno\":{ \n",
        "         \"nome\":\"Joao\",\n",
        "         \"notas\":{ \n",
        "            \"portugues\":2,\n",
        "            \"matematica\":9\n",
        "         }\n",
        "      }\n",
        "   }\n",
        "}\n"
      ],
      "id": "3f7ef2cc",
      "execution_count": 3,
      "outputs": []
    },
    {
      "cell_type": "code",
      "metadata": {
        "colab": {
          "base_uri": "https://localhost:8080/"
        },
        "id": "t-MM5CbvcBSk",
        "outputId": "d0f063d4-870e-48df-cec4-d95a9ab468da"
      },
      "source": [
        "dc3['turma']['aluno']['notas']['matematica'] = 3\n",
        "dc3"
      ],
      "id": "t-MM5CbvcBSk",
      "execution_count": 4,
      "outputs": [
        {
          "output_type": "execute_result",
          "data": {
            "text/plain": [
              "{'turma': {'aluno': {'nome': 'Joao',\n",
              "   'notas': {'matematica': 3, 'portugues': 2}}}}"
            ]
          },
          "metadata": {
            "tags": []
          },
          "execution_count": 4
        }
      ]
    },
    {
      "cell_type": "markdown",
      "metadata": {
        "id": "gG6oCIHFfCCl"
      },
      "source": [
        "## 4 - 8. Para as questões 4 a 8 utilize o dataset 'water_potability.csv'. O dataset descreve características de uma amostra de água e na coluna 'potability' descreve se a água é ou não própria para consumo humano. Para iniciar a resolução das questões abaixo drope a coluna 'Unnamed: 0'."
      ],
      "id": "gG6oCIHFfCCl"
    },
    {
      "cell_type": "code",
      "metadata": {
        "id": "oSQrWCxvfFWW"
      },
      "source": [
        "import pandas as pd\n",
        "\n",
        "data = pd.read_csv('water_potability.csv', sep = ';')\n",
        "data = data.drop('Unnamed: 0', axis = 1)"
      ],
      "id": "oSQrWCxvfFWW",
      "execution_count": 55,
      "outputs": []
    },
    {
      "cell_type": "code",
      "metadata": {
        "colab": {
          "base_uri": "https://localhost:8080/",
          "height": 486
        },
        "id": "bYxE57FffZPv",
        "outputId": "f38720d4-2bb8-4f28-d633-ccf0e6b44c3f"
      },
      "source": [
        "data.head()"
      ],
      "id": "bYxE57FffZPv",
      "execution_count": 56,
      "outputs": [
        {
          "output_type": "execute_result",
          "data": {
            "text/html": [
              "<div>\n",
              "<style scoped>\n",
              "    .dataframe tbody tr th:only-of-type {\n",
              "        vertical-align: middle;\n",
              "    }\n",
              "\n",
              "    .dataframe tbody tr th {\n",
              "        vertical-align: top;\n",
              "    }\n",
              "\n",
              "    .dataframe thead th {\n",
              "        text-align: right;\n",
              "    }\n",
              "</style>\n",
              "<table border=\"1\" class=\"dataframe\">\n",
              "  <thead>\n",
              "    <tr style=\"text-align: right;\">\n",
              "      <th></th>\n",
              "      <th>ph</th>\n",
              "      <th>Hardness</th>\n",
              "      <th>Solids</th>\n",
              "      <th>Chloramines</th>\n",
              "      <th>Sulfate</th>\n",
              "      <th>Conductivity</th>\n",
              "      <th>Organic_carbon</th>\n",
              "      <th>Trihalomethanes</th>\n",
              "      <th>Turbidity</th>\n",
              "      <th>Potability</th>\n",
              "      <th>state</th>\n",
              "      <th>sample_id</th>\n",
              "    </tr>\n",
              "  </thead>\n",
              "  <tbody>\n",
              "    <tr>\n",
              "      <th>0</th>\n",
              "      <td>NaN</td>\n",
              "      <td>204.890455</td>\n",
              "      <td>20791.318981</td>\n",
              "      <td>7.300212</td>\n",
              "      <td>368.516441</td>\n",
              "      <td>564.308654</td>\n",
              "      <td>10.379783</td>\n",
              "      <td>86.990970</td>\n",
              "      <td>2.963135</td>\n",
              "      <td>0</td>\n",
              "      <td>Pennsylvania</td>\n",
              "      <td>4b4962b9-fed5-492e-9d28-50d954937c3f</td>\n",
              "    </tr>\n",
              "    <tr>\n",
              "      <th>1</th>\n",
              "      <td>3.716080</td>\n",
              "      <td>129.422921</td>\n",
              "      <td>18630.057858</td>\n",
              "      <td>6.635246</td>\n",
              "      <td>NaN</td>\n",
              "      <td>592.885359</td>\n",
              "      <td>15.180013</td>\n",
              "      <td>56.329076</td>\n",
              "      <td>4.500656</td>\n",
              "      <td>0</td>\n",
              "      <td>Iowa</td>\n",
              "      <td>f1099b93-9195-4bd5-90b7-f0c191a74619</td>\n",
              "    </tr>\n",
              "    <tr>\n",
              "      <th>2</th>\n",
              "      <td>8.099124</td>\n",
              "      <td>224.236259</td>\n",
              "      <td>19909.541732</td>\n",
              "      <td>9.275884</td>\n",
              "      <td>NaN</td>\n",
              "      <td>418.606213</td>\n",
              "      <td>16.868637</td>\n",
              "      <td>66.420093</td>\n",
              "      <td>3.055934</td>\n",
              "      <td>0</td>\n",
              "      <td>Wisconsin</td>\n",
              "      <td>5bc660ce-c94c-4631-b69b-b937be4ab7bb</td>\n",
              "    </tr>\n",
              "    <tr>\n",
              "      <th>3</th>\n",
              "      <td>8.316766</td>\n",
              "      <td>214.373394</td>\n",
              "      <td>22018.417441</td>\n",
              "      <td>8.059332</td>\n",
              "      <td>356.886136</td>\n",
              "      <td>363.266516</td>\n",
              "      <td>18.436524</td>\n",
              "      <td>100.341674</td>\n",
              "      <td>4.628771</td>\n",
              "      <td>0</td>\n",
              "      <td>Maryland</td>\n",
              "      <td>fa912705-9dc8-4224-b5f8-f315f31070a6</td>\n",
              "    </tr>\n",
              "    <tr>\n",
              "      <th>4</th>\n",
              "      <td>9.092223</td>\n",
              "      <td>181.101509</td>\n",
              "      <td>17978.986339</td>\n",
              "      <td>6.546600</td>\n",
              "      <td>310.135738</td>\n",
              "      <td>398.410813</td>\n",
              "      <td>11.558279</td>\n",
              "      <td>31.997993</td>\n",
              "      <td>4.075075</td>\n",
              "      <td>0</td>\n",
              "      <td>Delaware</td>\n",
              "      <td>1761ae51-da0d-40af-bb86-50819ac3d1bc</td>\n",
              "    </tr>\n",
              "  </tbody>\n",
              "</table>\n",
              "</div>"
            ],
            "text/plain": [
              "         ph    Hardness  ...         state                             sample_id\n",
              "0       NaN  204.890455  ...  Pennsylvania  4b4962b9-fed5-492e-9d28-50d954937c3f\n",
              "1  3.716080  129.422921  ...          Iowa  f1099b93-9195-4bd5-90b7-f0c191a74619\n",
              "2  8.099124  224.236259  ...     Wisconsin  5bc660ce-c94c-4631-b69b-b937be4ab7bb\n",
              "3  8.316766  214.373394  ...      Maryland  fa912705-9dc8-4224-b5f8-f315f31070a6\n",
              "4  9.092223  181.101509  ...      Delaware  1761ae51-da0d-40af-bb86-50819ac3d1bc\n",
              "\n",
              "[5 rows x 12 columns]"
            ]
          },
          "metadata": {
            "tags": []
          },
          "execution_count": 56
        }
      ]
    },
    {
      "cell_type": "markdown",
      "metadata": {
        "id": "BBCOMAMhepz_"
      },
      "source": [
        "## 4. Demonstre a correlação entre todas as colunas do dataset. Qual é a coluna com maior correlação positiva com 'potability'? Desconsidere a correlação com ela mesma (valor 1.0)."
      ],
      "id": "BBCOMAMhepz_"
    },
    {
      "cell_type": "code",
      "metadata": {
        "colab": {
          "base_uri": "https://localhost:8080/"
        },
        "id": "L60RnHJkerCx",
        "outputId": "7472396e-636f-41b7-ddc7-58ec206555d3"
      },
      "source": [
        "data.corrwith(data['Potability']).sort_values(ascending=False) \n",
        "\n",
        "# resposta = Solids"
      ],
      "id": "L60RnHJkerCx",
      "execution_count": 7,
      "outputs": [
        {
          "output_type": "execute_result",
          "data": {
            "text/plain": [
              "Potability         1.000000\n",
              "Solids             0.033743\n",
              "Chloramines        0.023779\n",
              "Trihalomethanes    0.007130\n",
              "Turbidity          0.001581\n",
              "ph                -0.003556\n",
              "Conductivity      -0.008128\n",
              "Hardness          -0.013837\n",
              "Sulfate           -0.023577\n",
              "Organic_carbon    -0.030001\n",
              "dtype: float64"
            ]
          },
          "metadata": {
            "tags": []
          },
          "execution_count": 7
        }
      ]
    },
    {
      "cell_type": "markdown",
      "metadata": {
        "id": "A0VgBYWpf7fF"
      },
      "source": [
        "## 5. Crie uma série que descreve (em porcentagem) quanto cada coluna tem de valores nulos. Qual a coluna com maior porcentagem de valores nulos?"
      ],
      "id": "A0VgBYWpf7fF"
    },
    {
      "cell_type": "code",
      "metadata": {
        "colab": {
          "base_uri": "https://localhost:8080/"
        },
        "id": "3qV185jreaS2",
        "outputId": "a5658727-4fb8-4a98-99ca-e0f29a2e39d9"
      },
      "source": [
        "data.isnull().mean().mul(100).sort_values(ascending=False) "
      ],
      "id": "3qV185jreaS2",
      "execution_count": 8,
      "outputs": [
        {
          "output_type": "execute_result",
          "data": {
            "text/plain": [
              "Sulfate            23.840049\n",
              "ph                 14.987790\n",
              "Trihalomethanes     4.945055\n",
              "sample_id           0.000000\n",
              "state               0.000000\n",
              "Potability          0.000000\n",
              "Turbidity           0.000000\n",
              "Organic_carbon      0.000000\n",
              "Conductivity        0.000000\n",
              "Chloramines         0.000000\n",
              "Solids              0.000000\n",
              "Hardness            0.000000\n",
              "dtype: float64"
            ]
          },
          "metadata": {
            "tags": []
          },
          "execution_count": 8
        }
      ]
    },
    {
      "cell_type": "markdown",
      "metadata": {
        "id": "OFkgcjz4gHIx"
      },
      "source": [
        "## 6. Crie uma coluna dentro do dataset que descreve se 'Turbidity' está acima ou abaixo da média."
      ],
      "id": "OFkgcjz4gHIx"
    },
    {
      "cell_type": "code",
      "metadata": {
        "id": "i21WYIPZgJKP"
      },
      "source": [
        "data['TurbidityAbove'] = 0\n",
        "data.loc[data['Turbidity'] > data['Turbidity'].mean(),['TurbidityAbove']] = 1"
      ],
      "id": "i21WYIPZgJKP",
      "execution_count": 9,
      "outputs": []
    },
    {
      "cell_type": "markdown",
      "metadata": {
        "id": "Il6kO7k2gKEe"
      },
      "source": [
        "## 7. Quantas amostras de água são potáveis e não potáveis, utilize a coluna criada na questão 6 como dimensão de análise."
      ],
      "id": "Il6kO7k2gKEe"
    },
    {
      "cell_type": "code",
      "metadata": {
        "colab": {
          "base_uri": "https://localhost:8080/"
        },
        "id": "v8JP6gJJgNmU",
        "outputId": "d4acef59-1e40-4d0a-bce6-02072e97d0e4"
      },
      "source": [
        "import numpy as np\n",
        "\n",
        "quantidadeAmostrasPotaveis = data['TurbidityAbove'].loc[data['Potability'] == 1].sum()\n",
        "quantidadeAmostrasNaoPotaveis = data['TurbidityAbove'].loc[data['Potability'] == 0].sum()\n",
        "\n",
        "quantidadeAmostrasPotaveisTurbidityAcima = data['TurbidityAbove'].loc[(data['Potability'] == 1) &\n",
        "                                                                      (data['TurbidityAbove'] == 1)].count()\n",
        "quantidadeAmostrasNaoPotaveisTurbidityAcima = data['TurbidityAbove'].loc[(data['Potability'] == 0) &\n",
        "                                                                         (data['TurbidityAbove'] == 1)].count()\n",
        "quantidadeAmostrasPotaveisTurbidityAbaixo = data['TurbidityAbove'].loc[(data['Potability'] == 1) &\n",
        "                                                                       (data['TurbidityAbove'] == 0)].count()\n",
        "quantidadeAmostrasNaoPotaveisTurbidityAbaixo = data['TurbidityAbove'].loc[(data['Potability'] == 0) &\n",
        "                                                                          (data['TurbidityAbove'] == 0)].count()\n",
        "\n",
        "possibilidadesAmostras = ['Potaveis com Turbidity acima da média',\n",
        "                          'Nao Potaveis com Turbidity acima da média',\n",
        "                          'Potaveis com Turbidity abaixo da média',\n",
        "                          'Nao Potaveis com Turbidity abaixo da média']\n",
        "quantidadeAmostras = [quantidadeAmostrasPotaveisTurbidityAcima,\n",
        "                      quantidadeAmostrasNaoPotaveisTurbidityAcima,\n",
        "                      quantidadeAmostrasPotaveisTurbidityAbaixo,\n",
        "                      quantidadeAmostrasNaoPotaveisTurbidityAbaixo]\n",
        "\n",
        "tabelaAmostras = dict(zip(possibilidadesAmostras, quantidadeAmostras))\n",
        "tabelaAmostras"
      ],
      "id": "v8JP6gJJgNmU",
      "execution_count": 10,
      "outputs": [
        {
          "output_type": "execute_result",
          "data": {
            "text/plain": [
              "{'Nao Potaveis com Turbidity abaixo da média': 1012,\n",
              " 'Nao Potaveis com Turbidity acima da média': 986,\n",
              " 'Potaveis com Turbidity abaixo da média': 648,\n",
              " 'Potaveis com Turbidity acima da média': 630}"
            ]
          },
          "metadata": {
            "tags": []
          },
          "execution_count": 10
        }
      ]
    },
    {
      "cell_type": "markdown",
      "metadata": {
        "id": "l8yfnnKtgOJn"
      },
      "source": [
        "## 8. Crie um dataframe onde o índice deve ser cada estado e com duas colunas. A primeira é a porcentagem de amostras não potáveis naquele estado e a segunda é a porcentagem de amostras potáveis naquele estado. Qual é o estado com a menor porcentagem de amostras de água potável?"
      ],
      "id": "l8yfnnKtgOJn"
    },
    {
      "cell_type": "code",
      "metadata": {
        "id": "UVgUNjvtgPlD",
        "colab": {
          "base_uri": "https://localhost:8080/",
          "height": 206
        },
        "outputId": "685c57f1-fbd0-402e-9925-de9ab05edd36"
      },
      "source": [
        "porcentagensPotavel = data.groupby('state')['Potability'].mean().sort_values(ascending=True)\n",
        "\n",
        "porcentagemNaoPotavel = 1 - porcentagensPotavel.values\n",
        "porcentagemPotavel = porcentagensPotavel.values\n",
        "estados = porcentagensPotavel.keys()\n",
        "\n",
        "tabelaEstadoPotavelPorcentagem = pd.DataFrame(\n",
        "    {'Estado': estados,\n",
        "     'Nao Potavel (%)': porcentagemNaoPotavel,\n",
        "     'Potavel (%)': porcentagemPotavel\n",
        "    })\n",
        "\n",
        "tabelaEstadoPotavelPorcentagem.head()"
      ],
      "id": "UVgUNjvtgPlD",
      "execution_count": 53,
      "outputs": [
        {
          "output_type": "execute_result",
          "data": {
            "text/html": [
              "<div>\n",
              "<style scoped>\n",
              "    .dataframe tbody tr th:only-of-type {\n",
              "        vertical-align: middle;\n",
              "    }\n",
              "\n",
              "    .dataframe tbody tr th {\n",
              "        vertical-align: top;\n",
              "    }\n",
              "\n",
              "    .dataframe thead th {\n",
              "        text-align: right;\n",
              "    }\n",
              "</style>\n",
              "<table border=\"1\" class=\"dataframe\">\n",
              "  <thead>\n",
              "    <tr style=\"text-align: right;\">\n",
              "      <th></th>\n",
              "      <th>Estado</th>\n",
              "      <th>Nao Potavel (%)</th>\n",
              "      <th>Potavel (%)</th>\n",
              "    </tr>\n",
              "  </thead>\n",
              "  <tbody>\n",
              "    <tr>\n",
              "      <th>0</th>\n",
              "      <td>Minnesota</td>\n",
              "      <td>0.783333</td>\n",
              "      <td>0.216667</td>\n",
              "    </tr>\n",
              "    <tr>\n",
              "      <th>1</th>\n",
              "      <td>Vermont</td>\n",
              "      <td>0.712329</td>\n",
              "      <td>0.287671</td>\n",
              "    </tr>\n",
              "    <tr>\n",
              "      <th>2</th>\n",
              "      <td>Ohio</td>\n",
              "      <td>0.704918</td>\n",
              "      <td>0.295082</td>\n",
              "    </tr>\n",
              "    <tr>\n",
              "      <th>3</th>\n",
              "      <td>New York</td>\n",
              "      <td>0.701493</td>\n",
              "      <td>0.298507</td>\n",
              "    </tr>\n",
              "    <tr>\n",
              "      <th>4</th>\n",
              "      <td>Virginia</td>\n",
              "      <td>0.700000</td>\n",
              "      <td>0.300000</td>\n",
              "    </tr>\n",
              "  </tbody>\n",
              "</table>\n",
              "</div>"
            ],
            "text/plain": [
              "      Estado  Nao Potavel (%)  Potavel (%)\n",
              "0  Minnesota         0.783333     0.216667\n",
              "1    Vermont         0.712329     0.287671\n",
              "2       Ohio         0.704918     0.295082\n",
              "3   New York         0.701493     0.298507\n",
              "4   Virginia         0.700000     0.300000"
            ]
          },
          "metadata": {
            "tags": []
          },
          "execution_count": 53
        }
      ]
    },
    {
      "cell_type": "markdown",
      "metadata": {
        "id": "aUoXvIqZgQ3N"
      },
      "source": [
        "## 9. Utlizando dados coletados da internet sobre a quantidade de habitantes de cada estado no ano 2020 responda. Qual estado, com populacao acima de 10 milhões de habitantes, tem a maior porcentagem de amostras de águas não potável?"
      ],
      "id": "aUoXvIqZgQ3N"
    },
    {
      "cell_type": "code",
      "metadata": {
        "colab": {
          "base_uri": "https://localhost:8080/",
          "height": 81
        },
        "id": "3SYRHLqEPb7J",
        "outputId": "502e045c-d404-4afc-ce8f-e261305c0b8c"
      },
      "source": [
        "popData = pd.read_csv('nst-est2020-alldata.csv')\n",
        "\n",
        "popData2020 = popData[['NAME', 'POPESTIMATE2020']]\n",
        "\n",
        "estadoPotavelPopulacao = pd.merge(tabelaEstadoPotavelPorcentagem,\n",
        "                                  popData2020,\n",
        "                                  left_on = 'Estado', \n",
        "                                  right_on = 'NAME')\n",
        "\n",
        "estadoPotavelPopulacao = estadoPotavelPopulacao.drop('NAME', axis = 1)\n",
        "\n",
        "estadoPotavelPopulacao10M = estadoPotavelPopulacao.loc[estadoPotavelPopulacao['POPESTIMATE2020'] > 10000000]\n",
        "\n",
        "estadoPotavelPopulacao10M.head(1)"
      ],
      "id": "3SYRHLqEPb7J",
      "execution_count": 85,
      "outputs": [
        {
          "output_type": "execute_result",
          "data": {
            "text/html": [
              "<div>\n",
              "<style scoped>\n",
              "    .dataframe tbody tr th:only-of-type {\n",
              "        vertical-align: middle;\n",
              "    }\n",
              "\n",
              "    .dataframe tbody tr th {\n",
              "        vertical-align: top;\n",
              "    }\n",
              "\n",
              "    .dataframe thead th {\n",
              "        text-align: right;\n",
              "    }\n",
              "</style>\n",
              "<table border=\"1\" class=\"dataframe\">\n",
              "  <thead>\n",
              "    <tr style=\"text-align: right;\">\n",
              "      <th></th>\n",
              "      <th>Estado</th>\n",
              "      <th>Nao Potavel (%)</th>\n",
              "      <th>Potavel (%)</th>\n",
              "      <th>POPESTIMATE2020</th>\n",
              "    </tr>\n",
              "  </thead>\n",
              "  <tbody>\n",
              "    <tr>\n",
              "      <th>2</th>\n",
              "      <td>Ohio</td>\n",
              "      <td>0.704918</td>\n",
              "      <td>0.295082</td>\n",
              "      <td>11693217</td>\n",
              "    </tr>\n",
              "  </tbody>\n",
              "</table>\n",
              "</div>"
            ],
            "text/plain": [
              "  Estado  Nao Potavel (%)  Potavel (%)  POPESTIMATE2020\n",
              "2   Ohio         0.704918     0.295082         11693217"
            ]
          },
          "metadata": {
            "tags": []
          },
          "execution_count": 85
        }
      ]
    },
    {
      "cell_type": "markdown",
      "metadata": {
        "id": "v0_XWWU4gT-3"
      },
      "source": [
        "## 10. Crie o dicionário dc_states contendo como chaves os nomes de cada estado e como valor uma lista contendo o zscore aplicado a coluna \"Solids\" de todas as amostras daquele respectivo estado. Passe para função violin_plot_states o dicionário e uma lista contendo 5 estados que gostaria de análisar. Faça uma análise sucinta do resultado do gráfico."
      ],
      "id": "v0_XWWU4gT-3"
    },
    {
      "cell_type": "code",
      "metadata": {
        "id": "eIS4Zut5gV2I"
      },
      "source": [
        "from scipy import stats\n",
        "\n",
        "dc_states = data.groupby(['state'])['Solids'].apply(lambda grp: list(stats.zscore(grp.value_counts().index))).to_dict()\n",
        "lista_estados = ['Florida', 'California', 'New York', 'Nevada', 'West Virginia']"
      ],
      "id": "eIS4Zut5gV2I",
      "execution_count": 95,
      "outputs": []
    },
    {
      "cell_type": "code",
      "metadata": {
        "id": "1nQ0FpG9dwom"
      },
      "source": [
        "import matplotlib.pyplot as plt\n",
        "import seaborn as sns\n",
        "\n",
        "def violin_plot_states(dc_states,lista_estados):\n",
        "    f, ax = plt.subplots(1,1,figsize=(16,4))\n",
        "    data_plot = pd.DataFrame.from_dict(dc_states,orient='index').T.melt().rename(columns={'variable':'state','value':'z_score'})\n",
        "    states_plot = lista_estados\n",
        "    sns.violinplot(x='state',y='z_score',data=data_plot[data_plot.state.isin(states_plot)])    \n",
        "    ax.axhline(0,color='black',alpha=0.3)"
      ],
      "id": "1nQ0FpG9dwom",
      "execution_count": 96,
      "outputs": []
    },
    {
      "cell_type": "code",
      "metadata": {
        "id": "fc-WymrjcKMp",
        "colab": {
          "base_uri": "https://localhost:8080/",
          "height": 255
        },
        "outputId": "f12cc3a0-ef05-4e9b-cd83-755f560b9245"
      },
      "source": [
        "violin_plot_states(dc_states, lista_estados)"
      ],
      "id": "fc-WymrjcKMp",
      "execution_count": 97,
      "outputs": [
        {
          "output_type": "display_data",
          "data": {
            "image/png": "[encoded data removed]",
            "text/plain": [
              "<Figure size 1152x288 with 1 Axes>"
            ]
          },
          "metadata": {
            "tags": [],
            "needs_background": "light"
          }
        }
      ]
    }
  ]
}