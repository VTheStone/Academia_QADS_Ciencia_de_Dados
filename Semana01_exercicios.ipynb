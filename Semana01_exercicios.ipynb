{
  "nbformat": 4,
  "nbformat_minor": 5,
  "metadata": {
    "kernelspec": {
      "display_name": "Python 3",
      "language": "python",
      "name": "python3"
    },
    "language_info": {
      "codemirror_mode": {
        "name": "ipython",
        "version": 3
      },
      "file_extension": ".py",
      "mimetype": "text/x-python",
      "name": "python",
      "nbconvert_exporter": "python",
      "pygments_lexer": "ipython3",
      "version": "3.8.5"
    },
    "colab": {
      "name": "Semana01_exercicios.ipynb",
      "provenance": []
    }
  },
  "cells": [
    {
      "cell_type": "markdown",
      "metadata": {
        "id": "f6673c0c"
      },
      "source": [
        "# Exercícios - Primeira Semana\n",
        "___\n",
        "\n",
        "1. Crie uma função que receba uma lista e retorne o inverso da mesma lista.\n",
        "\n",
        "Exemplo: \n",
        "\n",
        "entrada = [1,2,3,4,5,6,7,8,9,10]\n",
        "\n",
        "saída = [10,9,8,7,6,5,4,3,2,1]\n",
        "\n",
        "\n",
        "2. Crie uma função que receba duas listas de strings e retorne a concatenação desta lista a nível de elementos.\n",
        "\n",
        "Exemplo:\n",
        "\n",
        "lista1 = ['Na','Ma','Jo']\n",
        "\n",
        "lista2 = ['sser','ria','ão']\n",
        "\n",
        "saída = ['Nasser','Maria','João']\n",
        "\n",
        "3. Defina um dicionário com os o estoque de cada alimento abaixo.\n",
        "\n",
        "* banana - 10\n",
        "* maça - 2\n",
        "* uva - 0\n",
        "* beterraba - 11\n",
        "* ovos - 0\n",
        "* bacon - 5\n",
        "* pão integral - 12\n",
        "\n",
        "\n",
        "3.1 Defina outro dicionário com os preços de cada alimento abaixo.\n",
        "\n",
        "* banana - 2.99\n",
        "* maça - 1.99\n",
        "* uva - 4.56\n",
        "* beterraba - 7.5\n",
        "* ovos - 10\n",
        "* bacon - 12.99\n",
        "* pão integral - 8.38\n",
        "\n",
        "3.2 Defina uma função chamada 'comprar_carrinho' que receba uma lista de alimentos e retorne o valor total da compra. Ignore termos ou não o item em estoque. Teste a função.\n",
        "\n",
        "3.3 Altere a função 'comprar_carrinho' para que só sejam computados os valores dos items em estoque. Caso o item da lista esteja em estoque, após somar seu valor ao total da compra diminua o estoque na quantidade necessária. Retorne o valor total da compra e o dicionário de estoque atualizado.\n",
        "\n",
        "4. Crie uma função que recebe uma string devolve a frequência absoluta de cada palavra da string. Antes da contagem, faça um tratamento prévio do texto colocando todas as palavras em letras minúsculas. A função abaixo gera os dados para resolução da questão (não alterar)."
      ],
      "id": "f6673c0c"
    },
    {
      "cell_type": "code",
      "metadata": {
        "colab": {
          "base_uri": "https://localhost:8080/"
        },
        "id": "NoXE-g8__44Z",
        "outputId": "f40440f0-4904-42b2-dfb6-9fcab73077c5"
      },
      "source": [
        "# Questão 1\n",
        "\n",
        "def inverso(lista: list):\n",
        "  lista_inversa = lista[::-1]\n",
        "  return lista_inversa\n",
        "\n",
        "inverso([1,2,3,4,5,6,7,8,9,10])"
      ],
      "id": "NoXE-g8__44Z",
      "execution_count": 7,
      "outputs": [
        {
          "output_type": "execute_result",
          "data": {
            "text/plain": [
              "[10, 9, 8, 7, 6, 5, 4, 3, 2, 1]"
            ]
          },
          "metadata": {
            "tags": []
          },
          "execution_count": 7
        }
      ]
    },
    {
      "cell_type": "code",
      "metadata": {
        "colab": {
          "base_uri": "https://localhost:8080/"
        },
        "id": "oP3G4URBAn_J",
        "outputId": "4a751a8c-aa1e-447e-9bd9-524bc796bab3"
      },
      "source": [
        "# Questão 2\n",
        "\n",
        "def concatenar(a, b):\n",
        "  c = []\n",
        "  for x, y in zip(a,b):\n",
        "    c.append(x + y)\n",
        "  return c\n",
        "\n",
        "lista1 = ['Na','Ma','Jo']\n",
        "\n",
        "lista2 = ['sser','ria','ão']\n",
        "\n",
        "concatenar(lista1, lista2)"
      ],
      "id": "oP3G4URBAn_J",
      "execution_count": 10,
      "outputs": [
        {
          "output_type": "execute_result",
          "data": {
            "text/plain": [
              "['Nasser', 'Maria', 'João']"
            ]
          },
          "metadata": {
            "tags": []
          },
          "execution_count": 10
        }
      ]
    },
    {
      "cell_type": "code",
      "metadata": {
        "colab": {
          "base_uri": "https://localhost:8080/"
        },
        "id": "kNNAm57ZD2pv",
        "outputId": "b22e16ff-1049-4a28-cc16-4d3f9c1c8ff0"
      },
      "source": [
        "# Questão 3.1\n",
        "\n",
        "estoque = {'banana':10, 'maça': 2, 'uva': 0, 'beterraba': 11, 'ovos': 0, 'bacon': 5, 'pão integral': 12}\n",
        "precos = {'banana':2.99, 'maça': 1.99, 'uva': 4.56, 'beterraba': 7.5, 'ovos': 10, 'bacon': 12.99, 'pão integral': 8.38}\n",
        "\n",
        "# Questão 3.2\n",
        "\n",
        "def comprar_carrinho_old(alimentos: list):\n",
        "  \n",
        "  valor = []\n",
        "  for alimento in alimentos:\n",
        "    valor.append(precos.get(alimento))\n",
        "\n",
        "  valor_total = sum(valor)\n",
        "  return valor_total\n",
        "\n",
        "print(comprar_carrinho_old(['uva', 'maça', 'ovos']))\n",
        "\n",
        "# Questão 3.3\n",
        "\n",
        "def comprar_carrinho(alimentos: list):\n",
        "  \n",
        "  valor = []\n",
        "  for alimento in alimentos:\n",
        "    if estoque.get(alimento) > 0:\n",
        "      valor.append(precos.get(alimento))\n",
        "      estoque[alimento] = estoque.get(alimento) - 1\n",
        "\n",
        "  valor_total = sum(valor)\n",
        "  return valor_total\n",
        "\n",
        "print(comprar_carrinho(['uva', 'maça', 'ovos']))"
      ],
      "id": "kNNAm57ZD2pv",
      "execution_count": 15,
      "outputs": [
        {
          "output_type": "stream",
          "text": [
            "16.55\n",
            "1.99\n"
          ],
          "name": "stdout"
        }
      ]
    },
    {
      "cell_type": "code",
      "metadata": {
        "colab": {
          "base_uri": "https://localhost:8080/"
        },
        "id": "Nz0Ux1oRJpMc",
        "outputId": "b66607cd-ca6b-4e2a-ee85-8d10ebfa0daa"
      },
      "source": [
        "# Questão 4\n",
        "\n",
        "def freq_abs(frase):\n",
        "  words = frase.lower().split()\n",
        "  freq = {}\n",
        "\n",
        "\n",
        "  for word in words:\n",
        "    \n",
        "    if word not in freq.keys():\n",
        "      freq[word] = 1\n",
        "    else:\n",
        "      freq[word] += 1 \n",
        "\n",
        "  return freq\n",
        "freq_abs('This this this this is supposed to work!')"
      ],
      "id": "Nz0Ux1oRJpMc",
      "execution_count": 30,
      "outputs": [
        {
          "output_type": "execute_result",
          "data": {
            "text/plain": [
              "{'is': 1, 'supposed': 1, 'this': 4, 'to': 1, 'work!': 1}"
            ]
          },
          "metadata": {
            "tags": []
          },
          "execution_count": 30
        }
      ]
    },
    {
      "cell_type": "code",
      "metadata": {
        "id": "f211cd0d"
      },
      "source": [
        "import requests as r\n",
        "from zipfile import ZipFile\n",
        "import io\n",
        "import pandas as pd\n",
        "\n",
        "def get_data_questao04():\n",
        "    file_zipped = r.get('https://archive.ics.uci.edu/ml/machine-learning-databases/00331/sentiment%20labelled%20sentences.zip')\n",
        "    z = ZipFile(io.BytesIO(file_zipped.content))\n",
        "    z.extractall(\"/content/\")\n",
        "\n",
        "    return ' '.join(pd.read_csv('/content/sentiment labelled sentences/imdb_labelled.txt',sep='\\t',names=['texto','class']).texto.values)\n",
        "\n",
        "texto_para_a_questao = get_data_questao04()"
      ],
      "id": "f211cd0d",
      "execution_count": 35,
      "outputs": []
    },
    {
      "cell_type": "markdown",
      "metadata": {
        "id": "ed0a53ae"
      },
      "source": [
        "5. O gráfico abaixo demonstra 400 coordenadas em um plano com duas dimensões. As coordenadas de cada um dos pontos está na variável lista_de_coordenadas. Crie uma função que receba a lista_de_coordenadas e calcule a distância euclideana entre todas elas, não se esqueça de calcular a distância do ponto até ele mesmo (sempre será zero). Retorne um lista de lista com as distâncias.\n",
        "\n",
        "entrada -> lista_de_coordenadas\n",
        "\n",
        "saída -> [ [0,12,14] , [13,0,14] , [11,12,0] ]"
      ],
      "id": "ed0a53ae"
    },
    {
      "cell_type": "code",
      "metadata": {
        "colab": {
          "base_uri": "https://localhost:8080/"
        },
        "id": "0e2YVmZNPLrm",
        "outputId": "d7bae0e5-8f99-46d4-f069-9abdc6a5ba8b"
      },
      "source": [
        "def distancia_euclidiana(coordenadas):\n",
        "\n",
        "  distancia_coordenadas_todas = []\n",
        "  for i in range(len(coordenadas)):\n",
        "    distancia_coordenadas = []\n",
        "    ponto_1 = coordenadas[i]\n",
        "\n",
        "    for j in range(len(coordenadas)):\n",
        "      ponto_2 = coordenadas[j]\n",
        "\n",
        "\n",
        "      distancia = (((coordenadas[i][0] - coordenadas[j][0])) ** 2 + ((coordenadas[i][1] - coordenadas[j][1])) ** 2)** (1/2)\n",
        "      distancia_coordenadas.append(distancia)\n",
        "  \n",
        "    distancia_coordenadas_todas.append(distancia_coordenadas)\n",
        "  return distancia_coordenadas_todas\n",
        "\n",
        "lista_distancias = distancia_euclidiana(lista_de_coordenadas)\n",
        "lista_distancias[2]\n"
      ],
      "id": "0e2YVmZNPLrm",
      "execution_count": 52,
      "outputs": [
        {
          "output_type": "execute_result",
          "data": {
            "text/plain": [
              "[122.53519406360145,\n",
              " 144.18714243580263,\n",
              " 0.0,\n",
              " 149.8419404178669,\n",
              " 22.070186427484654,\n",
              " 18.05426441233884,\n",
              " 130.16445452446254,\n",
              " 10.419926418684977,\n",
              " 142.11690722614256,\n",
              " 18.95224373935173,\n",
              " 10.369849545303483,\n",
              " 123.39171487489601,\n",
              " 11.10590467323288,\n",
              " 2.442910347673564,\n",
              " 7.300637551377332,\n",
              " 11.091119215679077,\n",
              " 151.71573516469536,\n",
              " 151.00625042983393,\n",
              " 140.4847274004663,\n",
              " 150.51424757230222,\n",
              " 19.356302403269698,\n",
              " 21.632613986624232,\n",
              " 138.6865640153012,\n",
              " 162.15591056188651,\n",
              " 19.01573795526725,\n",
              " 148.47002279702153,\n",
              " 23.059200324092775,\n",
              " 158.30129783056483,\n",
              " 133.97914950889253,\n",
              " 27.55889799912799,\n",
              " 133.00235415602438,\n",
              " 4.35089411921044,\n",
              " 131.91919271761745,\n",
              " 23.93038441268467,\n",
              " 150.7348406259362,\n",
              " 29.608746229836413,\n",
              " 29.52231576576615,\n",
              " 150.19226815453564,\n",
              " 29.475829383188703,\n",
              " 4.236799990829347,\n",
              " 155.35035515325598,\n",
              " 6.0198031433216075,\n",
              " 16.537318602308773,\n",
              " 24.08333612795775,\n",
              " 19.444163137396973,\n",
              " 165.0390668006928,\n",
              " 27.142670296536366,\n",
              " 20.264812011547967,\n",
              " 20.46693943492846,\n",
              " 19.613128466926682,\n",
              " 3.4244117453912017,\n",
              " 129.83922852326964,\n",
              " 135.6507478609608,\n",
              " 23.36217637960506,\n",
              " 162.4097954341594,\n",
              " 22.730028225791134,\n",
              " 119.8340726090743,\n",
              " 13.557222291971472,\n",
              " 24.25558348289998,\n",
              " 16.102539097821573,\n",
              " 28.19742693996984,\n",
              " 129.72002612804627,\n",
              " 126.70351487062554,\n",
              " 30.06583390604645,\n",
              " 21.184991274318442,\n",
              " 29.034778815997203,\n",
              " 171.10553580051482,\n",
              " 160.966963953028,\n",
              " 152.54225630655884,\n",
              " 24.4228432920913,\n",
              " 135.30926859045076,\n",
              " 12.589774499627197,\n",
              " 10.232653587940934,\n",
              " 34.3925780504083,\n",
              " 144.88804511026544,\n",
              " 132.42676224949363,\n",
              " 138.746243937222,\n",
              " 132.94811916650795,\n",
              " 13.197630521543871,\n",
              " 139.25940561188744,\n",
              " 36.50888448132653,\n",
              " 24.6038364584001,\n",
              " 154.20897923677455,\n",
              " 131.64428141590284,\n",
              " 133.3083010534686,\n",
              " 34.54970186947036,\n",
              " 133.67842324217838,\n",
              " 171.4644106171205,\n",
              " 14.618975832101855,\n",
              " 6.70791486270491,\n",
              " 130.77209706311368,\n",
              " 139.41303883482877,\n",
              " 23.31093373175653,\n",
              " 130.29710475102357,\n",
              " 16.14506853251498,\n",
              " 147.08159961362537,\n",
              " 138.67306434773042,\n",
              " 153.1875246875239,\n",
              " 152.04118230993356,\n",
              " 24.491564609686513,\n",
              " 141.68920098867545,\n",
              " 21.77104455534236,\n",
              " 51.235047065039915,\n",
              " 18.99261504333207,\n",
              " 15.264863483289508,\n",
              " 10.468013469278388,\n",
              " 18.986540922322867,\n",
              " 30.170457007263504,\n",
              " 130.06943480324986,\n",
              " 116.01217595808994,\n",
              " 35.7681043094248,\n",
              " 152.03306767928518,\n",
              " 145.40283840680976,\n",
              " 142.88968556917652,\n",
              " 126.79572581171517,\n",
              " 34.74568863108305,\n",
              " 21.646747719375107,\n",
              " 147.81036314172118,\n",
              " 131.86698095492696,\n",
              " 124.15095635591223,\n",
              " 21.687885496426716,\n",
              " 8.916711852547508,\n",
              " 16.901297248570227,\n",
              " 135.68831659278572,\n",
              " 8.91453738015393,\n",
              " 17.16829686089277,\n",
              " 151.41077327031016,\n",
              " 137.3681062344511,\n",
              " 21.683737608972674,\n",
              " 144.58404591289926,\n",
              " 146.7286768380548,\n",
              " 14.932232865434678,\n",
              " 143.46770348307243,\n",
              " 40.72323885340747,\n",
              " 24.133830016267453,\n",
              " 146.0136855252411,\n",
              " 165.0515495743336,\n",
              " 134.27390956898876,\n",
              " 145.5989964650556,\n",
              " 143.1039928213997,\n",
              " 21.609039864636586,\n",
              " 16.401954241009115,\n",
              " 161.03138136944247,\n",
              " 8.501703881043627,\n",
              " 120.97310069679294,\n",
              " 133.97299635894993,\n",
              " 22.501196919384704,\n",
              " 2.1293298699621594,\n",
              " 20.060371079198095,\n",
              " 132.17420972922451,\n",
              " 31.514547567260642,\n",
              " 135.4463851542463,\n",
              " 156.77204717263825,\n",
              " 29.818414630266556,\n",
              " 15.423950605457582,\n",
              " 33.28412712513161,\n",
              " 15.360472531675041,\n",
              " 26.54863526321801,\n",
              " 126.68563444827501,\n",
              " 111.00475188481522,\n",
              " 119.5673961229292,\n",
              " 148.66867794547144,\n",
              " 126.50505375017906,\n",
              " 34.67661494704764,\n",
              " 128.98834651653684,\n",
              " 17.723229632473835,\n",
              " 139.48523216916487,\n",
              " 26.14458359672232,\n",
              " 17.26471312954535,\n",
              " 121.67237756601948,\n",
              " 12.594612064856605,\n",
              " 9.276097964010761,\n",
              " 28.33387688925731,\n",
              " 31.408808150457933,\n",
              " 5.547973406143793,\n",
              " 161.26161646888332,\n",
              " 14.666281343561714,\n",
              " 128.10324753166898,\n",
              " 12.370703034681819,\n",
              " 22.93285584174109,\n",
              " 13.415782851373951,\n",
              " 30.4269998508915,\n",
              " 25.63185572622821,\n",
              " 19.746390672476206,\n",
              " 15.361318310504851,\n",
              " 167.62539319817438,\n",
              " 139.38006901052918,\n",
              " 161.02286173190157,\n",
              " 127.17022043137,\n",
              " 160.25457584598203,\n",
              " 31.78077537763855,\n",
              " 14.48505164377536,\n",
              " 134.87276911980305,\n",
              " 25.738530432670398,\n",
              " 124.88400321061219,\n",
              " 140.44381661073322,\n",
              " 139.81624721291521,\n",
              " 127.91248694659264,\n",
              " 138.01601524602452,\n",
              " 138.37132459968188,\n",
              " 33.9025895708195,\n",
              " 153.2003284067368,\n",
              " 150.98206359888192,\n",
              " 154.2972816013484,\n",
              " 146.41734337201848,\n",
              " 13.460939034373459,\n",
              " 6.161570303945788,\n",
              " 13.465982980956346,\n",
              " 140.45022440683525,\n",
              " 21.237762925489474,\n",
              " 123.1542234801563,\n",
              " 8.47948112132098,\n",
              " 36.98620739942717,\n",
              " 134.82261957586783,\n",
              " 150.73396198785963,\n",
              " 9.769158167661963,\n",
              " 142.95747242561563,\n",
              " 147.50277140361374,\n",
              " 123.79881626046802,\n",
              " 158.71150976747705,\n",
              " 138.45457761029076,\n",
              " 4.00420704037126,\n",
              " 143.519986337136,\n",
              " 15.935716129576718,\n",
              " 13.929361512750932,\n",
              " 128.033212021251,\n",
              " 132.2334831066417,\n",
              " 127.14889893338601,\n",
              " 13.20499620140511,\n",
              " 126.42120039841583,\n",
              " 50.64005860744857,\n",
              " 137.95213968657455,\n",
              " 121.82720941339846,\n",
              " 6.202155653687518,\n",
              " 26.432021477786957,\n",
              " 140.80825380234646,\n",
              " 139.4027717151312,\n",
              " 147.0507839620076,\n",
              " 136.21315779881002,\n",
              " 150.67384032364586,\n",
              " 123.88789126415688,\n",
              " 29.093759449332385,\n",
              " 28.196067527984244,\n",
              " 141.72093621152285,\n",
              " 9.590490795627034,\n",
              " 7.688127732456024,\n",
              " 131.48894925865517,\n",
              " 24.380100866213414,\n",
              " 128.63528155515658,\n",
              " 165.59342981662823,\n",
              " 36.77783142338887,\n",
              " 128.9832262995944,\n",
              " 23.582077730362144,\n",
              " 119.78240551215424,\n",
              " 25.32393663282705,\n",
              " 161.4726697910986,\n",
              " 23.469099382945426,\n",
              " 19.346338902340193,\n",
              " 176.88517214258712,\n",
              " 28.71607953385024,\n",
              " 20.660665862206105,\n",
              " 9.46547140943511,\n",
              " 19.569265411378733,\n",
              " 19.26266295658433,\n",
              " 4.2598038565875775,\n",
              " 20.184053781044746,\n",
              " 147.5321258221018,\n",
              " 139.96150666115668,\n",
              " 125.4460005817983,\n",
              " 16.789519304157974,\n",
              " 17.248294030992927,\n",
              " 158.342756996574,\n",
              " 123.37558963725854,\n",
              " 147.01642946515398,\n",
              " 28.81679680263309,\n",
              " 26.793230273556468,\n",
              " 132.37534701384286,\n",
              " 131.81770082836792,\n",
              " 145.476160710295,\n",
              " 144.07527085132145,\n",
              " 28.52695445349774,\n",
              " 147.9915728503115,\n",
              " 173.9166857219605,\n",
              " 23.21796633147606,\n",
              " 143.75900896109573,\n",
              " 145.23139337921788,\n",
              " 120.76842700856383,\n",
              " 27.981831863428408,\n",
              " 21.905704866961607,\n",
              " 140.06675164449643,\n",
              " 7.519532960878292,\n",
              " 12.870715618107168,\n",
              " 58.014784405327724,\n",
              " 160.09988168179774,\n",
              " 165.04375469475596,\n",
              " 169.78353958649086,\n",
              " 26.80071620099607,\n",
              " 129.8980751467218,\n",
              " 111.96091896751985,\n",
              " 119.35681171381279,\n",
              " 151.69196846596034,\n",
              " 13.039521821186284,\n",
              " 133.39311881730947,\n",
              " 32.74415713694441,\n",
              " 14.828730662082402,\n",
              " 3.463428157094231,\n",
              " 14.259460675668068,\n",
              " 44.893938264778654,\n",
              " 7.635482442183875,\n",
              " 107.56989145562571,\n",
              " 7.214303039783807,\n",
              " 38.560793513659256,\n",
              " 11.333915438388464,\n",
              " 130.60667911636708,\n",
              " 134.51887891086972,\n",
              " 137.95401920036684,\n",
              " 111.01956615684053,\n",
              " 140.12226323678345,\n",
              " 137.5488846573298,\n",
              " 140.2500004999078,\n",
              " 148.39806951670687,\n",
              " 160.60908280203884,\n",
              " 115.46201307361592,\n",
              " 125.45254567305678,\n",
              " 144.06239820373375,\n",
              " 147.40313016996464,\n",
              " 165.98045308288692,\n",
              " 110.37462691591159,\n",
              " 158.1239368542736,\n",
              " 37.393070720782184,\n",
              " 5.073278022986795,\n",
              " 134.17196637346993,\n",
              " 11.100026726335628,\n",
              " 174.30157468806382,\n",
              " 123.6793856978075,\n",
              " 30.342220800987768,\n",
              " 4.0272234735449,\n",
              " 7.48184491086521,\n",
              " 23.440816931593073,\n",
              " 16.892505971193398,\n",
              " 165.43302206358237,\n",
              " 22.540076527269743,\n",
              " 131.27018593856764,\n",
              " 12.703882877079772,\n",
              " 133.89098722770566,\n",
              " 9.357662370076014,\n",
              " 118.19937295634442,\n",
              " 160.51196083596682,\n",
              " 130.839364947369,\n",
              " 2.1886593322488492,\n",
              " 121.69586140281206,\n",
              " 15.121663457526303,\n",
              " 140.2431709753034,\n",
              " 24.118177923492887,\n",
              " 104.95263716432773,\n",
              " 144.9059623140005,\n",
              " 18.90157166182365,\n",
              " 148.99509579374165,\n",
              " 142.14486819143565,\n",
              " 136.3788358564342,\n",
              " 153.17578300289176,\n",
              " 13.477756569493032,\n",
              " 24.85240662186794,\n",
              " 7.822432716484202,\n",
              " 18.711508802678686,\n",
              " 147.67815747757984,\n",
              " 16.51801210254555,\n",
              " 1.6734412239540322,\n",
              " 13.726970471267284,\n",
              " 30.827705812692667,\n",
              " 144.80303407474952,\n",
              " 121.91730218280185,\n",
              " 124.46370170130388,\n",
              " 11.362807645872833,\n",
              " 144.35176681402044,\n",
              " 4.574731113455031,\n",
              " 122.7312489099244,\n",
              " 11.324396319657966,\n",
              " 150.56486111200866,\n",
              " 123.2832249948889,\n",
              " 179.0555924603738,\n",
              " 147.45821948738472,\n",
              " 18.785656123283555,\n",
              " 30.31404424785514,\n",
              " 4.8393082603314515,\n",
              " 135.36431083772746,\n",
              " 25.482031809185226,\n",
              " 138.8857665094449,\n",
              " 47.053110478249465,\n",
              " 140.7051713598989,\n",
              " 144.23404188828965,\n",
              " 3.9739076418619614,\n",
              " 153.43418877004805,\n",
              " 18.799326720627857,\n",
              " 5.898676246437037,\n",
              " 47.11679665672326,\n",
              " 10.109919220487004,\n",
              " 142.83934680552238,\n",
              " 136.1822884105478,\n",
              " 11.575312285427552]"
            ]
          },
          "metadata": {
            "tags": []
          },
          "execution_count": 52
        }
      ]
    },
    {
      "cell_type": "code",
      "metadata": {
        "colab": {
          "base_uri": "https://localhost:8080/",
          "height": 281
        },
        "id": "b090dfe6",
        "outputId": "5093cb6b-3a28-41dd-b854-ae2aff5a3f2c"
      },
      "source": [
        "from sklearn.datasets import make_biclusters\n",
        "import matplotlib.pyplot as plt\n",
        "\n",
        "data = make_biclusters(shape=(400,2),n_clusters=2,noise=15,random_state=42)[0]\n",
        "lista_de_coordenadas = data.tolist()\n",
        "\n",
        "plt.scatter(data[:,0],data[:,1])\n",
        "plt.title('Dados')\n",
        "plt.show()"
      ],
      "id": "b090dfe6",
      "execution_count": 36,
      "outputs": [
        {
          "output_type": "display_data",
          "data": {
            "image/png": "[encoded data removed]",
            "text/plain": [
              "<Figure size 432x288 with 1 Axes>"
            ]
          },
          "metadata": {
            "tags": [],
            "needs_background": "light"
          }
        }
      ]
    },
    {
      "cell_type": "markdown",
      "metadata": {
        "id": "146157ac"
      },
      "source": [
        "6. Altere o salário de joão para 8500."
      ],
      "id": "146157ac"
    },
    {
      "cell_type": "code",
      "metadata": {
        "id": "2dbac674"
      },
      "source": [
        "empregados = {\n",
        "     'emp1': {'nome': 'João', 'salario': 7500},\n",
        "     'emp2': {'nome': 'Patrícia', 'salario': 8000},\n",
        "     'emp3': {'nome': 'Juliana', 'salario': 6500}\n",
        "}"
      ],
      "id": "2dbac674",
      "execution_count": 32,
      "outputs": []
    },
    {
      "cell_type": "code",
      "metadata": {
        "id": "JpAdHYukMqEt"
      },
      "source": [
        "# Questão 6\n",
        "\n",
        "empregados['emp1']['salario'] = 8500"
      ],
      "id": "JpAdHYukMqEt",
      "execution_count": 53,
      "outputs": []
    },
    {
      "cell_type": "markdown",
      "metadata": {
        "id": "db68419a"
      },
      "source": [
        "7. Considere a lista abaixo para resolver as próximas questões."
      ],
      "id": "db68419a"
    },
    {
      "cell_type": "code",
      "metadata": {
        "id": "7ba0438b"
      },
      "source": [
        "lista_original = [15,16,17,58,95,68,35,12,12,12,44,87,95,66,78,10,12,73,155,788,157,15,25,77,185,167,142,135,172,111,121,100,101,135,196,117,156,125,189,147,155,178,142,143,156,189,178,112,113,154,144]"
      ],
      "id": "7ba0438b",
      "execution_count": 60,
      "outputs": []
    },
    {
      "cell_type": "markdown",
      "metadata": {
        "id": "92b83cd6"
      },
      "source": [
        "8. Crie um função que recebe uma lista e retorna o seu desvio padrão."
      ],
      "id": "92b83cd6"
    },
    {
      "cell_type": "code",
      "metadata": {
        "id": "vHvCkO6QevCz"
      },
      "source": [
        "# Questão 8\n",
        "\n",
        "def media(x):\n",
        "  soma = sum(x)\n",
        "  tamanho = len(x)\n",
        "  media = soma / tamanho\n",
        "  return media\n",
        "\n",
        "def desvio_padrao(x):\n",
        "\n",
        "  valor_menos_media = []\n",
        "  for n in x:\n",
        "    valor_menos_media.append((n - media(x)) ** 2)\n",
        "  soma = sum(valor_menos_media)\n",
        "  tamanho = len(valor_menos_media)\n",
        "  \n",
        "  if tamanho == 0:\n",
        "    valor_dividido_n = 0  \n",
        "  else:\n",
        "    valor_dividido_n = soma / tamanho\n",
        "\n",
        "  desvio_padrao = (valor_dividido_n) ** (1/2)\n",
        "  return desvio_padrao"
      ],
      "id": "vHvCkO6QevCz",
      "execution_count": 75,
      "outputs": []
    },
    {
      "cell_type": "markdown",
      "metadata": {
        "id": "a0977f4e"
      },
      "source": [
        "9. SDR (Standard Deviation Reduction) é o cálculo de redução do desvio padrão depois da quebra de um dataset utilizando uma regra. Ele consiste na seguinte fórmula.\n",
        "\n",
        "![sdr.png](data:image/png;base64,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)\n",
        "\n",
        "Onde :\n",
        "\n",
        "*   SDR(T,X) é redução do desvio padrão original T dado a regra X\n",
        "*   S(T) é o desvio padrão original\n",
        "*   S(T,X) é o desvio padrão ponderado utilizando a regra X.\n",
        "\n",
        "\n",
        "(use desvio populacional)\n",
        "\n"
      ],
      "id": "a0977f4e"
    },
    {
      "cell_type": "markdown",
      "metadata": {
        "id": "4e262a67"
      },
      "source": [
        "![exemplo.png](data:image/png;base64,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)"
      ],
      "id": "4e262a67"
    },
    {
      "cell_type": "markdown",
      "metadata": {
        "id": "656556ab"
      },
      "source": [
        "Utilizando a imagem acima como exemplo. Em um dataset de vários aluguéis utilizamos uma regra de separação quanto ao valor ser maior do que 16. Assim temos dois subsets. O primeiro tem 5 valores e um desvio padrão de 2,17, já o segundo tem 6 valores e um desvio padrão de 47,43. O desvio padrão ponderado de ambos é 26,86. A diferença entre o desvio padrão original (40,16) e dado a regra (26,86) é 13,30. \n",
        "\n",
        "Crie um código que calcule o SDR da lista_original para cada um dos possíveis valores de regra entre 0 e 200. Guarde todos os valores de SDR em uma lista e a passe para a função plot_sdr já definida aqui."
      ],
      "id": "656556ab"
    },
    {
      "cell_type": "code",
      "metadata": {
        "id": "618cbf0e"
      },
      "source": [
        "import matplotlib.pyplot as plt\n",
        "\n",
        "def plot_sdr(lista_de_sdr):\n",
        "    f,ax = plt.subplots(1,1,figsize=(16,6))\n",
        "    plt.gca().spines['top'].set_visible(False)\n",
        "    plt.gca().spines['right'].set_visible(False)\n",
        "\n",
        "\n",
        "    ax.set_title('Comportamento de SDR',fontsize=25)\n",
        "    ax.set_ylabel('SDR',fontsize=15)\n",
        "    ax.plot(lista_de_sdr)\n",
        "\n",
        "    plt.show()"
      ],
      "id": "618cbf0e",
      "execution_count": 58,
      "outputs": []
    },
    {
      "cell_type": "code",
      "metadata": {
        "id": "JyxyHiaZf5Ag"
      },
      "source": [
        "valores_regra = []\n",
        "for i in range(200):\n",
        "  valores_regra.append(i)\n",
        "\n",
        "def desvio_padrao_ponderado(x, valores_regra):\n",
        "  sdr = []\n",
        "\n",
        "  for regra in valores_regra:\n",
        "    lista_sim = []\n",
        "    lista_nao = []\n",
        "    for item in x:\n",
        "      if item > regra:\n",
        "        lista_sim.append(item)\n",
        "      else:\n",
        "        lista_nao.append(item)\n",
        "\n",
        "    desvio_sim = desvio_padrao(lista_sim)\n",
        "    desvio_nao = desvio_padrao(lista_nao)\n",
        "\n",
        "    desvio_ponderado = desvio_sim * (len(lista_sim)/len(x)) + desvio_nao * (len(lista_nao)/len(x))\n",
        "\n",
        "    reducao_desvio_padrao = desvio_padrao(x) - desvio_ponderado\n",
        "\n",
        "    sdr.append(reducao_desvio_padrao)\n",
        "\n",
        "  return sdr\n",
        "\n",
        "\n",
        "  "
      ],
      "id": "JyxyHiaZf5Ag",
      "execution_count": 94,
      "outputs": []
    },
    {
      "cell_type": "code",
      "metadata": {
        "id": "oUyAJm7UiJH5"
      },
      "source": [
        "SDR = desvio_padrao_ponderado(lista_original, valores_regra)"
      ],
      "id": "oUyAJm7UiJH5",
      "execution_count": 95,
      "outputs": []
    },
    {
      "cell_type": "code",
      "metadata": {
        "colab": {
          "base_uri": "https://localhost:8080/",
          "height": 399
        },
        "id": "ITQiOMGPjQa_",
        "outputId": "a0ef61f8-fa18-494f-a71d-b4501796d58c"
      },
      "source": [
        "plot_sdr(SDR)"
      ],
      "id": "ITQiOMGPjQa_",
      "execution_count": 98,
      "outputs": [
        {
          "output_type": "display_data",
          "data": {
            "image/png": "[encoded data removed]",
            "text/plain": [
              "<Figure size 1152x432 with 1 Axes>"
            ]
          },
          "metadata": {
            "tags": [],
            "needs_background": "light"
          }
        }
      ]
    },
    {
      "cell_type": "code",
      "metadata": {
        "id": "tpgBawm3kUwA"
      },
      "source": [
        ""
      ],
      "id": "tpgBawm3kUwA",
      "execution_count": null,
      "outputs": []
    }
  ]
}