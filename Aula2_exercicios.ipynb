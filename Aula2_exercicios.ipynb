{
  "nbformat": 4,
  "nbformat_minor": 5,
  "metadata": {
    "kernelspec": {
      "display_name": "Python 3",
      "language": "python",
      "name": "python3"
    },
    "language_info": {
      "codemirror_mode": {
        "name": "ipython",
        "version": 3
      },
      "file_extension": ".py",
      "mimetype": "text/x-python",
      "name": "python",
      "nbconvert_exporter": "python",
      "pygments_lexer": "ipython3",
      "version": "3.8.5"
    },
    "colab": {
      "name": "Aula2_exercicios.ipynb",
      "provenance": []
    }
  },
  "cells": [
    {
      "cell_type": "markdown",
      "metadata": {
        "id": "8264b715"
      },
      "source": [
        "# Exercícios - Aula 02\n",
        "___\n",
        "\n",
        "1. Crie uma lista 'a_list' com os seguintes valores: 1, hello, [1,2,3] e True.\n",
        "2. Ache o valor em 'a_list' que esteja no índice -1.\n",
        "3. Encontre os valores em 'a_list' que estejam nos indices 1,2 e 3.\n",
        "4. Junte as seguinte listas a=[1,2,3,4,5] e b=[11,12,13,14,15]\n",
        "5. Crie uma lista de listas 'list_list' que tenha os valores de 'a_list', 'a' e 'b'\n",
        "6. Qual o tamanho de 'list_list'?\n",
        "7. Adicione o valor 125 ao final de 'list_list'.\n",
        "8. Remova a lista [1,2,3] de 'list_list' e guarde esse valor numa variável 'list_a'.\n",
        "9. Qual é o primeiro valor do segundo valor de [[1,3 ,5,7],[2,4,6,8,10]]?\n",
        "10. Crie a tupla 'gnr' com os seguintes valores: rock, metal, sertanejo, pop, lo-fi e chillwave, nessa ordem.\n",
        "11. Qual o terceiro valor da tupla 'gnr'?\n",
        "12. Qual o índice de lofi?\n",
        "13. Crie uma tupla de tuplas com as seguintes tuplas (15,30), (20,40) e (25,50). Como acessar o valor 40?\n",
        "14. Acesse a tupla 'gnr' a cada dois valores, qual gêneros musicais aparecem?\n",
        "16. Crie o dicionário 'mcu' com os seguintes dados, 'Homem de Ferro':2008, 'Homem de Ferro 2':2010, 'Homem de ferro 3':2013, 'Avengers: Endgame':2019.\n",
        "\n",
        "    a - No dicionário 'mcu' quais são os valores?\n",
        "\n",
        "    b - No dicińario 'mcu' quais são as chaves?\n",
        "\n",
        "    c - Adicione ao dicionário 'mcu' os seguintes filmes: 'Avengers Infinity War':2018, 'Avengers Age of Ultron':2015.\n",
        "\n",
        "    d - Delete o filme 'Homem de Ferro 3' do dicionário 'mcu'\n",
        "\n",
        "    e - Limpe o dicionário 'mcu'\n",
        "\n",
        "17. Popule o dicionário vazio 'mcu' com as informações abaixo:\n",
        "\n",
        "'homem de ferro':{'filmes':3,'ator principal':'Robert Downey Jr.'},'Cpt.América':{'filmes':3,'ator principal':'Chris Evans'}\n",
        "\n",
        "18. Acesse somente a quantidade de filmes de cada uma das chaves do dicionário MCU.\n",
        "\n",
        "19. Quais são as chaves do dicionário de dicionários 'mcu'?\n",
        "\n",
        "20. Qual o tamanho do dicionário de dicionários 'mcu'?"
      ],
      "id": "8264b715"
    },
    {
      "cell_type": "markdown",
      "metadata": {
        "id": "e8KbxFnu3PTZ"
      },
      "source": [
        "1. Crie uma lista 'a_list' com os seguintes valores: 1, hello, [1,2,3] e True."
      ],
      "id": "e8KbxFnu3PTZ"
    },
    {
      "cell_type": "code",
      "metadata": {
        "id": "-cKfzlKV3RBo"
      },
      "source": [
        "a_list = [1, 'hello', [1,2,3], True]"
      ],
      "id": "-cKfzlKV3RBo",
      "execution_count": 18,
      "outputs": []
    },
    {
      "cell_type": "markdown",
      "metadata": {
        "id": "Zzvw_J2b3Rgn"
      },
      "source": [
        "2. Ache o valor em 'a_list' que esteja no índice -1."
      ],
      "id": "Zzvw_J2b3Rgn"
    },
    {
      "cell_type": "code",
      "metadata": {
        "colab": {
          "base_uri": "https://localhost:8080/"
        },
        "id": "Lm7pY7Kq3T3b",
        "outputId": "433d63b1-7ef3-4302-e1f8-f2f9a9bca2e3"
      },
      "source": [
        "print(a_list[-1])"
      ],
      "id": "Lm7pY7Kq3T3b",
      "execution_count": 3,
      "outputs": [
        {
          "output_type": "stream",
          "text": [
            "True\n"
          ],
          "name": "stdout"
        }
      ]
    },
    {
      "cell_type": "markdown",
      "metadata": {
        "id": "_u3cJkx03UV4"
      },
      "source": [
        "3. Encontre os valores em 'a_list' que estejam nos indices 1,2 e 3."
      ],
      "id": "_u3cJkx03UV4"
    },
    {
      "cell_type": "code",
      "metadata": {
        "colab": {
          "base_uri": "https://localhost:8080/"
        },
        "id": "AJK2o4YK3WDK",
        "outputId": "b5d57a0b-edde-4685-8d39-2434621ca7c0"
      },
      "source": [
        "print(a_list[1:4])  # 1 included and 4 not included"
      ],
      "id": "AJK2o4YK3WDK",
      "execution_count": 8,
      "outputs": [
        {
          "output_type": "stream",
          "text": [
            "['hello', [1, 2, 3], True]\n"
          ],
          "name": "stdout"
        }
      ]
    },
    {
      "cell_type": "markdown",
      "metadata": {
        "id": "uMwj8mDx3Wcw"
      },
      "source": [
        "4. Junte as seguinte listas a=[1,2,3,4,5] e b=[11,12,13,14,15]"
      ],
      "id": "uMwj8mDx3Wcw"
    },
    {
      "cell_type": "code",
      "metadata": {
        "colab": {
          "base_uri": "https://localhost:8080/"
        },
        "id": "-WqzOKll3Xy9",
        "outputId": "3be6e4a7-ef11-47b6-87a2-69bfa4b3e3b4"
      },
      "source": [
        "a = [1,2,3,4,5]\n",
        "b = [11, 12, 13, 14, 15]\n",
        "\n",
        "c = a + b\n",
        "print(c)"
      ],
      "id": "-WqzOKll3Xy9",
      "execution_count": 9,
      "outputs": [
        {
          "output_type": "stream",
          "text": [
            "[1, 2, 3, 4, 5, 11, 12, 13, 14, 15]\n"
          ],
          "name": "stdout"
        }
      ]
    },
    {
      "cell_type": "markdown",
      "metadata": {
        "id": "-aV_tyGb3YqF"
      },
      "source": [
        "5. Crie uma lista de listas 'list_list' que tenha os valores de 'a_list', 'a' e 'b'"
      ],
      "id": "-aV_tyGb3YqF"
    },
    {
      "cell_type": "code",
      "metadata": {
        "colab": {
          "base_uri": "https://localhost:8080/"
        },
        "id": "syYo7_Ns3aHu",
        "outputId": "6ddade3a-6aa1-4e0f-8e5c-f97d757e614b"
      },
      "source": [
        "list_list = [a_list, a, b]\n",
        "\n",
        "print(list_list)"
      ],
      "id": "syYo7_Ns3aHu",
      "execution_count": 19,
      "outputs": [
        {
          "output_type": "stream",
          "text": [
            "[[1, 'hello', [1, 2, 3], True], [1, 2, 3, 4, 5], [11, 12, 13, 14, 15]]\n"
          ],
          "name": "stdout"
        }
      ]
    },
    {
      "cell_type": "markdown",
      "metadata": {
        "id": "72VEIIJZ3a5s"
      },
      "source": [
        "6. Qual o tamanho de 'list_list'?"
      ],
      "id": "72VEIIJZ3a5s"
    },
    {
      "cell_type": "code",
      "metadata": {
        "colab": {
          "base_uri": "https://localhost:8080/"
        },
        "id": "ejO_17aV3cRb",
        "outputId": "1cb1694f-7f94-4746-e031-7fa4184bf953"
      },
      "source": [
        "len(list_list)"
      ],
      "id": "ejO_17aV3cRb",
      "execution_count": 20,
      "outputs": [
        {
          "output_type": "execute_result",
          "data": {
            "text/plain": [
              "3"
            ]
          },
          "metadata": {
            "tags": []
          },
          "execution_count": 20
        }
      ]
    },
    {
      "cell_type": "markdown",
      "metadata": {
        "id": "fh0D2iYx3cyS"
      },
      "source": [
        "7. Adicione o valor 125 ao final de 'list_list'."
      ],
      "id": "fh0D2iYx3cyS"
    },
    {
      "cell_type": "code",
      "metadata": {
        "colab": {
          "base_uri": "https://localhost:8080/"
        },
        "id": "I5bgjRhB3eFE",
        "outputId": "b367e93a-8826-4c27-f135-944c80e66149"
      },
      "source": [
        "list_list.append(125)\n",
        "\n",
        "print(list_list)"
      ],
      "id": "I5bgjRhB3eFE",
      "execution_count": 21,
      "outputs": [
        {
          "output_type": "stream",
          "text": [
            "[[1, 'hello', [1, 2, 3], True], [1, 2, 3, 4, 5], [11, 12, 13, 14, 15], 125]\n"
          ],
          "name": "stdout"
        }
      ]
    },
    {
      "cell_type": "markdown",
      "metadata": {
        "id": "_Gr2in3b3edB"
      },
      "source": [
        "8. Remova a lista [1,2,3] de 'list_list' e guarde esse valor numa variável 'list_a'."
      ],
      "id": "_Gr2in3b3edB"
    },
    {
      "cell_type": "code",
      "metadata": {
        "colab": {
          "base_uri": "https://localhost:8080/"
        },
        "id": "wN5--67l3gK8",
        "outputId": "c8689cc9-e779-40dd-c681-d0a97e7f6ab1"
      },
      "source": [
        "list_a = list_list[0].pop(2)\n",
        "\n",
        "print(list_a)"
      ],
      "id": "wN5--67l3gK8",
      "execution_count": 22,
      "outputs": [
        {
          "output_type": "stream",
          "text": [
            "[1, 2, 3]\n"
          ],
          "name": "stdout"
        },
        {
          "output_type": "execute_result",
          "data": {
            "text/plain": [
              "[[1, 'hello', True], [1, 2, 3, 4, 5], [11, 12, 13, 14, 15], 125]"
            ]
          },
          "metadata": {
            "tags": []
          },
          "execution_count": 22
        }
      ]
    },
    {
      "cell_type": "markdown",
      "metadata": {
        "id": "ua9IeCw83g1y"
      },
      "source": [
        "9. Qual é o primeiro valor do segundo valor de [[1,3,5,7],[2,4,6,8,10]]?"
      ],
      "id": "ua9IeCw83g1y"
    },
    {
      "cell_type": "code",
      "metadata": {
        "colab": {
          "base_uri": "https://localhost:8080/"
        },
        "id": "KmitHcQl3iFA",
        "outputId": "85ed50a3-9258-4609-b2a1-896c9d8c4e68"
      },
      "source": [
        "list_9 = [[1,3,5,7],[2,4,6,8,10]]\n",
        "\n",
        "list_9[1][0]"
      ],
      "id": "KmitHcQl3iFA",
      "execution_count": 23,
      "outputs": [
        {
          "output_type": "execute_result",
          "data": {
            "text/plain": [
              "2"
            ]
          },
          "metadata": {
            "tags": []
          },
          "execution_count": 23
        }
      ]
    },
    {
      "cell_type": "markdown",
      "metadata": {
        "id": "9egMkFNa3izK"
      },
      "source": [
        "10. Crie a tupla 'gnr' com os seguintes valores: rock, metal, sertanejo, pop, lo-fi e chillwave, nessa ordem."
      ],
      "id": "9egMkFNa3izK"
    },
    {
      "cell_type": "code",
      "metadata": {
        "colab": {
          "base_uri": "https://localhost:8080/"
        },
        "id": "xmRyFkDL3lLK",
        "outputId": "16454827-b3ab-4e52-d85c-717f72519ae0"
      },
      "source": [
        "gnr = ('rock', 'metal', 'sertanejo', 'pop', 'lo-fi', 'chillwave')\n",
        "print(gnr)"
      ],
      "id": "xmRyFkDL3lLK",
      "execution_count": 24,
      "outputs": [
        {
          "output_type": "stream",
          "text": [
            "('rock', 'metal', 'sertanejo', 'pop', 'lo-fi', 'chillwave')\n"
          ],
          "name": "stdout"
        }
      ]
    },
    {
      "cell_type": "markdown",
      "metadata": {
        "id": "UPNvwEqn3lz7"
      },
      "source": [
        "11. Qual o terceiro valor da tupla 'gnr'?"
      ],
      "id": "UPNvwEqn3lz7"
    },
    {
      "cell_type": "code",
      "metadata": {
        "colab": {
          "base_uri": "https://localhost:8080/",
          "height": 35
        },
        "id": "DK48aJLk3nEm",
        "outputId": "04a82fe4-97a2-464e-eaf2-892a647800b2"
      },
      "source": [
        "gnr[2]"
      ],
      "id": "DK48aJLk3nEm",
      "execution_count": 25,
      "outputs": [
        {
          "output_type": "execute_result",
          "data": {
            "application/vnd.google.colaboratory.intrinsic+json": {
              "type": "string"
            },
            "text/plain": [
              "'sertanejo'"
            ]
          },
          "metadata": {
            "tags": []
          },
          "execution_count": 25
        }
      ]
    },
    {
      "cell_type": "markdown",
      "metadata": {
        "id": "dQ1BO3v73nhH"
      },
      "source": [
        "12. Qual o índice de lofi?"
      ],
      "id": "dQ1BO3v73nhH"
    },
    {
      "cell_type": "code",
      "metadata": {
        "colab": {
          "base_uri": "https://localhost:8080/"
        },
        "id": "WNHXlMFn3on8",
        "outputId": "11fab79d-b658-4b50-b7cb-14a0db22d5e9"
      },
      "source": [
        "gnr.index('lo-fi')"
      ],
      "id": "WNHXlMFn3on8",
      "execution_count": 26,
      "outputs": [
        {
          "output_type": "execute_result",
          "data": {
            "text/plain": [
              "4"
            ]
          },
          "metadata": {
            "tags": []
          },
          "execution_count": 26
        }
      ]
    },
    {
      "cell_type": "markdown",
      "metadata": {
        "id": "v7jr0Al13pEj"
      },
      "source": [
        "13. Crie uma tupla de tuplas com as seguintes tuplas (15,30), (20,40) e (25,50). Como acessar o valor 40?"
      ],
      "id": "v7jr0Al13pEj"
    },
    {
      "cell_type": "code",
      "metadata": {
        "colab": {
          "base_uri": "https://localhost:8080/"
        },
        "id": "yI17P4tA3sUb",
        "outputId": "f39c9a43-effb-4f3a-be53-5f1c81af56a2"
      },
      "source": [
        "tupla_tupla = ( (15,30), (20,40), (25,50))\n",
        "\n",
        "tupla_tupla[1][1]"
      ],
      "id": "yI17P4tA3sUb",
      "execution_count": 28,
      "outputs": [
        {
          "output_type": "execute_result",
          "data": {
            "text/plain": [
              "40"
            ]
          },
          "metadata": {
            "tags": []
          },
          "execution_count": 28
        }
      ]
    },
    {
      "cell_type": "markdown",
      "metadata": {
        "id": "zofECj_i3tBI"
      },
      "source": [
        "14. Acesse a tupla 'gnr' a cada dois valores, qual gêneros musicais aparecem?"
      ],
      "id": "zofECj_i3tBI"
    },
    {
      "cell_type": "code",
      "metadata": {
        "colab": {
          "base_uri": "https://localhost:8080/"
        },
        "id": "YKbq5zGs3utG",
        "outputId": "8fd330ab-112e-4fa3-e0ef-69ad634f32da"
      },
      "source": [
        "gnr[::2]"
      ],
      "id": "YKbq5zGs3utG",
      "execution_count": 29,
      "outputs": [
        {
          "output_type": "execute_result",
          "data": {
            "text/plain": [
              "('rock', 'sertanejo', 'lo-fi')"
            ]
          },
          "metadata": {
            "tags": []
          },
          "execution_count": 29
        }
      ]
    },
    {
      "cell_type": "markdown",
      "metadata": {
        "id": "PMl-zUKU30IC"
      },
      "source": [
        "15. Crie o dicionário 'mcu' com os seguintes dados, 'Homem de Ferro':2008, 'Homem de Ferro 2':2010, 'Homem de ferro 3':2013, 'Avengers: Endgame':2019.\n",
        "\n",
        "    a - No dicionário 'mcu' quais são os valores?\n",
        "\n",
        "    b - No dicińario 'mcu' quais são as chaves?\n",
        "\n",
        "    c - Adicione ao dicionário 'mcu' os seguintes filmes: 'Avengers Infinity War':2018, 'Avengers Age of Ultron':2015.\n",
        "\n",
        "    d - Delete o filme 'Homem de Ferro 3' do dicionário 'mcu'\n",
        "\n",
        "    e - Limpe o dicionário 'mcu'"
      ],
      "id": "PMl-zUKU30IC"
    },
    {
      "cell_type": "code",
      "metadata": {
        "colab": {
          "base_uri": "https://localhost:8080/"
        },
        "id": "Za7BVotV4HrQ",
        "outputId": "fb751b41-644f-4c9e-925f-f9782980d67d"
      },
      "source": [
        "mcu = {'Homem de Ferro':2008, 'Homem de Ferro 2':2010, 'Homem de ferro 3':2013, 'Avengers: Endgame':2019}\n",
        "\n",
        "print(mcu.values()) # a\n",
        "print(mcu.keys()) # b\n",
        "mcu['Avengers Infinity War'] = 2018 # c\n",
        "mcu['Avengers Age of Ultron'] = 2015 # c\n",
        "del mcu['Homem de ferro 3'] # d\n",
        "mcu.clear()\n"
      ],
      "id": "Za7BVotV4HrQ",
      "execution_count": 40,
      "outputs": [
        {
          "output_type": "stream",
          "text": [
            "dict_values([2008, 2010, 2013, 2019])\n",
            "dict_keys(['Homem de Ferro', 'Homem de Ferro 2', 'Homem de ferro 3', 'Avengers: Endgame'])\n"
          ],
          "name": "stdout"
        }
      ]
    },
    {
      "cell_type": "markdown",
      "metadata": {
        "id": "MhiJGpaj4ERD"
      },
      "source": [
        "16. Popule o dicionário vazio 'mcu' com as informações abaixo:\n",
        "\n",
        "'homem de ferro':{'filmes':3,'ator principal':'Robert Downey Jr.'},'Cpt.América':{'filmes':3,'ator principal':'Chris Evans'}"
      ],
      "id": "MhiJGpaj4ERD"
    },
    {
      "cell_type": "code",
      "metadata": {
        "colab": {
          "base_uri": "https://localhost:8080/"
        },
        "id": "1yJSeVUG4Dz-",
        "outputId": "e5e6a862-91fe-4591-fb8c-c19c5e19a01a"
      },
      "source": [
        "novos_valores = {'homem de ferro':{'filmes':3,'ator principal':'Robert Downey Jr.'},'Cpt.América':{'filmes':3,'ator principal':'Chris Evans'}}\n",
        "mcu.update(novos_valores)\n",
        "print(mcu)"
      ],
      "id": "1yJSeVUG4Dz-",
      "execution_count": 43,
      "outputs": [
        {
          "output_type": "stream",
          "text": [
            "{'homem de ferro': {'filmes': 3, 'ator principal': 'Robert Downey Jr.'}, 'Cpt.América': {'filmes': 3, 'ator principal': 'Chris Evans'}}\n"
          ],
          "name": "stdout"
        }
      ]
    },
    {
      "cell_type": "markdown",
      "metadata": {
        "id": "7RKuSjRX4KKK"
      },
      "source": [
        "17. Acesse somente a quantidade de filmes de cada uma das chaves do dicionário MCU."
      ],
      "id": "7RKuSjRX4KKK"
    },
    {
      "cell_type": "code",
      "metadata": {
        "colab": {
          "base_uri": "https://localhost:8080/"
        },
        "id": "taCUavOX4OOw",
        "outputId": "fea97565-4554-4926-d609-495787b76949"
      },
      "source": [
        "print(mcu['homem de ferro']['filmes'])\n",
        "print(mcu['Cpt.América']['filmes'])"
      ],
      "id": "taCUavOX4OOw",
      "execution_count": 50,
      "outputs": [
        {
          "output_type": "stream",
          "text": [
            "3\n",
            "3\n"
          ],
          "name": "stdout"
        }
      ]
    },
    {
      "cell_type": "markdown",
      "metadata": {
        "id": "rB5OdeQL4OzV"
      },
      "source": [
        "18. Quais são as chaves do dicionário de dicionários 'mcu'?"
      ],
      "id": "rB5OdeQL4OzV"
    },
    {
      "cell_type": "code",
      "metadata": {
        "colab": {
          "base_uri": "https://localhost:8080/"
        },
        "id": "G5btUYh74RYh",
        "outputId": "b7992369-2ab1-4f93-8cd8-3112e01d6df2"
      },
      "source": [
        "mcu.keys()"
      ],
      "id": "G5btUYh74RYh",
      "execution_count": 51,
      "outputs": [
        {
          "output_type": "execute_result",
          "data": {
            "text/plain": [
              "dict_keys(['homem de ferro', 'Cpt.América'])"
            ]
          },
          "metadata": {
            "tags": []
          },
          "execution_count": 51
        }
      ]
    },
    {
      "cell_type": "markdown",
      "metadata": {
        "id": "pr_tLT2M4R5q"
      },
      "source": [
        "19. Qual o tamanho do dicionário de dicionários 'mcu'?"
      ],
      "id": "pr_tLT2M4R5q"
    },
    {
      "cell_type": "code",
      "metadata": {
        "colab": {
          "base_uri": "https://localhost:8080/"
        },
        "id": "Zc8eyIN03Ofj",
        "outputId": "125060ff-15ba-4d6e-d2aa-b66b7ce6d659"
      },
      "source": [
        "len(mcu)"
      ],
      "id": "Zc8eyIN03Ofj",
      "execution_count": 52,
      "outputs": [
        {
          "output_type": "execute_result",
          "data": {
            "text/plain": [
              "2"
            ]
          },
          "metadata": {
            "tags": []
          },
          "execution_count": 52
        }
      ]
    }
  ]
}