{
  "nbformat": 4,
  "nbformat_minor": 5,
  "metadata": {
    "kernelspec": {
      "display_name": "Python 3",
      "language": "python",
      "name": "python3"
    },
    "language_info": {
      "codemirror_mode": {
        "name": "ipython",
        "version": 3
      },
      "file_extension": ".py",
      "mimetype": "text/x-python",
      "name": "python",
      "nbconvert_exporter": "python",
      "pygments_lexer": "ipython3",
      "version": "3.8.5"
    },
    "colab": {
      "name": "Aula0_exercicios.ipynb",
      "provenance": [],
      "collapsed_sections": []
    }
  },
  "cells": [
    {
      "cell_type": "markdown",
      "metadata": {
        "id": "38e88a1b"
      },
      "source": [
        "## Exercícios - Aula 0\n",
        "___\n",
        "\n",
        "1. Crie um algoritmo que pergunte a idade do usuário, transforme a idade enviada para ```float```, calcule a idade em meses, calcule a idade em dias e mostre o resultado de cada operação. Considere que todos os anos possuem exatamente 365 dias.\n",
        "\n",
        "2. Crie um algoritmo que pergunte o primeiro nome, guarde na variável ```primeiro_nome```, pergunte o sobrenome , guarda na variável ```sobrenome```. Por fim o algoritmo deve printar a soma das duas variáveis com uma saudação (de sua escolha) ao usuário.\n",
        "\n",
        "3. No açougue do Seu Joaquim o contra-filé é R\\$39.99 o kilo. Monte um algoritmo para calcular o valor pago caso você compre 5, 10, 15, 2.5 e 5.75 kilos.\n",
        "\n",
        "4. Execute todas as operações aritiméticas básicas (adição, subtração, divisão e multiplicação) com as variáveis 'a' e 'b' abaixo.\n",
        "\n",
        "> a = 15<br>\n",
        "b = 12\n",
        "\n",
        "5. Tente calcular o seu IMC utilizando somente operações matemáticas. Dica: o IMC é calculado da seguinte forma: IMC = peso / (altura em metros * altura em metros)\n",
        "\n",
        "6. Sua professora de português pediu para você escrever a frase 'português é maravilhoso' 50 vezes. Como resolver esse problema com python? Demonstre sua solução.\n",
        "\n",
        "7. Um modelo de regressão linear possui a seguinte fórmula: y=0.253*x + 125. Qual será o valor de Y quando X for 125?\n",
        "\n",
        "8. Cria uma variável chamada ```a```, atribua o valor 15 para ela. Na linha abaixo escreva a = b = 15. Qual será o valor de ```a```?\n",
        "\n",
        "9. É possível criar uma variável chamada ```1_2_3_variavel```? Se não, qual o motivo?\n",
        "\n",
        "10. Crie uma variável chamada ```temp_em_graus``` e atribua a temperatura de hoje a ela. Crie uma segunda ```temp_em_f``` e guarde a transformação do valor da primeira variável de graus para Fahrenheit."
      ],
      "id": "38e88a1b"
    },
    {
      "cell_type": "markdown",
      "metadata": {
        "id": "pYfcpPrzgoQl"
      },
      "source": [
        "## Resolução"
      ],
      "id": "pYfcpPrzgoQl"
    },
    {
      "cell_type": "markdown",
      "metadata": {
        "id": "Z_3ErdBagmwe"
      },
      "source": [
        "1. Crie um algoritmo que pergunte a idade do usuário, transforme a idade enviada para ```float```, calcule a idade em meses, calcule a idade em dias e mostre o resultado de cada operação. Considere que todos os anos possuem exatamente 365 dias."
      ],
      "id": "Z_3ErdBagmwe"
    },
    {
      "cell_type": "code",
      "metadata": {
        "colab": {
          "base_uri": "https://localhost:8080/"
        },
        "id": "0swnVpRcf4Mh",
        "outputId": "2e5a1054-ee59-4dba-ea40-c4e9f36cef12"
      },
      "source": [
        "idade = input('Qual a sua idade? ')\n",
        "\n",
        "idade_float = float(idade)\n",
        "idade_meses = idade_float * 12\n",
        "idade_dias = idade_float * 365\n",
        "\n",
        "print(f'Sua idade em meses é {idade_meses} meses \\n')\n",
        "print(f'Sua idade em dias é {idade_dias} dias \\n')"
      ],
      "id": "0swnVpRcf4Mh",
      "execution_count": 10,
      "outputs": [
        {
          "output_type": "stream",
          "text": [
            "Qual a sua idade? 55\n",
            "Sua idade em meses é 660.0 meses \n",
            "\n",
            "Sua idade em dias é 20075.0 dias \n",
            "\n"
          ],
          "name": "stdout"
        }
      ]
    },
    {
      "cell_type": "markdown",
      "metadata": {
        "id": "RnpY3iLkjEVx"
      },
      "source": [
        "2. Crie um algoritmo que pergunte o primeiro nome, guarde na variável ```primeiro_nome```, pergunte o sobrenome , guarda na variável ```sobrenome```. Por fim o algoritmo deve printar a soma das duas variáveis com uma saudação (de sua escolha) ao usuário."
      ],
      "id": "RnpY3iLkjEVx"
    },
    {
      "cell_type": "code",
      "metadata": {
        "colab": {
          "base_uri": "https://localhost:8080/"
        },
        "id": "feHHcyO7hxqi",
        "outputId": "0aa86357-cf5d-4134-b454-16d802b5ad48"
      },
      "source": [
        "primeiro_nome = input('Qual o seu primeiro nome? ')\n",
        "sobrenome = input('Qual o seu sobrenome? ')\n",
        "\n",
        "print(f'Bem vindo {primeiro_nome} {sobrenome}')"
      ],
      "id": "feHHcyO7hxqi",
      "execution_count": 11,
      "outputs": [
        {
          "output_type": "stream",
          "text": [
            "Qual o seu primeiro nome? Victor\n",
            "Qual o seu sobrenome? Rocha Grecco\n",
            "Bem vindo Victor Rocha Grecco\n"
          ],
          "name": "stdout"
        }
      ]
    },
    {
      "cell_type": "markdown",
      "metadata": {
        "id": "V_iaTI72jmZY"
      },
      "source": [
        "3. No açougue do Seu Joaquim o contra-filé é R\\$39.99 o kilo. Monte um algoritmo para calcular o valor pago caso você compre 5, 10, 15, 2.5 e 5.75 kilos."
      ],
      "id": "V_iaTI72jmZY"
    },
    {
      "cell_type": "code",
      "metadata": {
        "colab": {
          "base_uri": "https://localhost:8080/"
        },
        "id": "lov8GBK8jpDW",
        "outputId": "51348408-5319-4f99-8c56-d17328f6d67e"
      },
      "source": [
        "import pandas as pd\n",
        "\n",
        "contra_file_kg = 39.99\n",
        "\n",
        "combos = [5, 10, 15, 2.5, 5.75]\n",
        "\n",
        "valor_combos = {}\n",
        "\n",
        "for pacote in combos:\n",
        "  valor_combos[f'valor combo {pacote} kg'] = round(contra_file_kg * pacote, 2)\n",
        "\n",
        "print(valor_combos)"
      ],
      "id": "lov8GBK8jpDW",
      "execution_count": 24,
      "outputs": [
        {
          "output_type": "stream",
          "text": [
            "{'valor combo 5 kg': 199.95, 'valor combo 10 kg': 399.9, 'valor combo 15 kg': 599.85, 'valor combo 2.5 kg': 99.98, 'valor combo 5.75 kg': 229.94}\n"
          ],
          "name": "stdout"
        }
      ]
    },
    {
      "cell_type": "markdown",
      "metadata": {
        "id": "7hCSCXVUjpmg"
      },
      "source": [
        "4. Execute todas as operações aritiméticas básicas (adição, subtração, divisão e multiplicação) com as variáveis 'a' e 'b' abaixo.\n",
        "\n",
        "> a = 15<br>\n",
        "b = 12"
      ],
      "id": "7hCSCXVUjpmg"
    },
    {
      "cell_type": "code",
      "metadata": {
        "colab": {
          "base_uri": "https://localhost:8080/"
        },
        "id": "3baPlqMrmbH2",
        "outputId": "85759228-43cd-495d-9e7a-6a968d2b557c"
      },
      "source": [
        "a = 15\n",
        "b = 12\n",
        "\n",
        "adicao = a + b\n",
        "subtracao = a - b\n",
        "divisao = a / b\n",
        "multiplicacao = a * b\n",
        "\n",
        "print(adicao)\n",
        "print(subtracao)\n",
        "print(divisao)\n",
        "print(multiplicacao)"
      ],
      "id": "3baPlqMrmbH2",
      "execution_count": 26,
      "outputs": [
        {
          "output_type": "stream",
          "text": [
            "27\n",
            "3\n",
            "1.25\n",
            "180\n"
          ],
          "name": "stdout"
        }
      ]
    },
    {
      "cell_type": "markdown",
      "metadata": {
        "id": "4rtPb_m4mZAo"
      },
      "source": [
        "5. Tente calcular o seu IMC utilizando somente operações matemáticas. Dica: o IMC é calculado da seguinte forma: IMC = peso / (altura em metros * altura em metros)"
      ],
      "id": "4rtPb_m4mZAo"
    },
    {
      "cell_type": "code",
      "metadata": {
        "colab": {
          "base_uri": "https://localhost:8080/"
        },
        "id": "yVWMqCaum6uI",
        "outputId": "7a22cfa4-a7ae-4404-8122-ebdcca469786"
      },
      "source": [
        "peso = 73 # kg\n",
        "altura = 1.72 # metros\n",
        "\n",
        "imc = peso / (altura * altura)\n",
        "\n",
        "print(imc)"
      ],
      "id": "yVWMqCaum6uI",
      "execution_count": 28,
      "outputs": [
        {
          "output_type": "stream",
          "text": [
            "24.675500270416443\n"
          ],
          "name": "stdout"
        }
      ]
    },
    {
      "cell_type": "markdown",
      "metadata": {
        "id": "oXG4MXAjm7Ke"
      },
      "source": [
        "6. Sua professora de português pediu para você escrever a frase 'português é maravilhoso' 50 vezes. Como resolver esse problema com python? Demonstre sua solução."
      ],
      "id": "oXG4MXAjm7Ke"
    },
    {
      "cell_type": "code",
      "metadata": {
        "colab": {
          "base_uri": "https://localhost:8080/"
        },
        "id": "K2z1ry1mnglv",
        "outputId": "4eb445b2-67e5-442a-bc89-e7091b08ff06"
      },
      "source": [
        "frase = 'português é maravilhoso'\n",
        "\n",
        "for vez in range(50):\n",
        "  print(frase)"
      ],
      "id": "K2z1ry1mnglv",
      "execution_count": 31,
      "outputs": [
        {
          "output_type": "stream",
          "text": [
            "português é maravilhoso\n",
            "português é maravilhoso\n",
            "português é maravilhoso\n",
            "português é maravilhoso\n",
            "português é maravilhoso\n",
            "português é maravilhoso\n",
            "português é maravilhoso\n",
            "português é maravilhoso\n",
            "português é maravilhoso\n",
            "português é maravilhoso\n",
            "português é maravilhoso\n",
            "português é maravilhoso\n",
            "português é maravilhoso\n",
            "português é maravilhoso\n",
            "português é maravilhoso\n",
            "português é maravilhoso\n",
            "português é maravilhoso\n",
            "português é maravilhoso\n",
            "português é maravilhoso\n",
            "português é maravilhoso\n",
            "português é maravilhoso\n",
            "português é maravilhoso\n",
            "português é maravilhoso\n",
            "português é maravilhoso\n",
            "português é maravilhoso\n",
            "português é maravilhoso\n",
            "português é maravilhoso\n",
            "português é maravilhoso\n",
            "português é maravilhoso\n",
            "português é maravilhoso\n",
            "português é maravilhoso\n",
            "português é maravilhoso\n",
            "português é maravilhoso\n",
            "português é maravilhoso\n",
            "português é maravilhoso\n",
            "português é maravilhoso\n",
            "português é maravilhoso\n",
            "português é maravilhoso\n",
            "português é maravilhoso\n",
            "português é maravilhoso\n",
            "português é maravilhoso\n",
            "português é maravilhoso\n",
            "português é maravilhoso\n",
            "português é maravilhoso\n",
            "português é maravilhoso\n",
            "português é maravilhoso\n",
            "português é maravilhoso\n",
            "português é maravilhoso\n",
            "português é maravilhoso\n",
            "português é maravilhoso\n"
          ],
          "name": "stdout"
        }
      ]
    },
    {
      "cell_type": "markdown",
      "metadata": {
        "id": "XCDNBX2hnhM_"
      },
      "source": [
        "7. Um modelo de regressão linear possui a seguinte fórmula: y=0.253*x + 125. Qual será o valor de Y quando X for 125?"
      ],
      "id": "XCDNBX2hnhM_"
    },
    {
      "cell_type": "code",
      "metadata": {
        "colab": {
          "base_uri": "https://localhost:8080/"
        },
        "id": "wog5Cd3Wnii1",
        "outputId": "298b7c54-dbd2-4062-aade-9a58229ffd15"
      },
      "source": [
        "x = 125\n",
        "\n",
        "y = 0.253 * x + 125\n",
        "\n",
        "print(y)"
      ],
      "id": "wog5Cd3Wnii1",
      "execution_count": 32,
      "outputs": [
        {
          "output_type": "stream",
          "text": [
            "156.625\n"
          ],
          "name": "stdout"
        }
      ]
    },
    {
      "cell_type": "markdown",
      "metadata": {
        "id": "rpSp5zOQnjHM"
      },
      "source": [
        "8. Cria uma variável chamada ```a```, atribua o valor 15 para ela. Na linha abaixo escreva a = b = 15. Qual será o valor de ```a```?"
      ],
      "id": "rpSp5zOQnjHM"
    },
    {
      "cell_type": "code",
      "metadata": {
        "colab": {
          "base_uri": "https://localhost:8080/"
        },
        "id": "A_tE4bk3nkmM",
        "outputId": "f9f48ca7-f87b-446e-c681-f722a53daac2"
      },
      "source": [
        "a = 15\n",
        "a = b = 15\n",
        "\n",
        "print(a)"
      ],
      "id": "A_tE4bk3nkmM",
      "execution_count": 33,
      "outputs": [
        {
          "output_type": "stream",
          "text": [
            "15\n"
          ],
          "name": "stdout"
        }
      ]
    },
    {
      "cell_type": "markdown",
      "metadata": {
        "id": "A4CgyyjcnlHL"
      },
      "source": [
        "9. É possível criar uma variável chamada ```1_2_3_variavel```? Se não, qual o motivo?"
      ],
      "id": "A4CgyyjcnlHL"
    },
    {
      "cell_type": "code",
      "metadata": {
        "id": "DzyoPjhqnmRp"
      },
      "source": [
        "# Não, não se pode começar variável com número, produzindo o erro: 'SyntaxError: invalid token'"
      ],
      "id": "DzyoPjhqnmRp",
      "execution_count": 35,
      "outputs": []
    },
    {
      "cell_type": "markdown",
      "metadata": {
        "id": "K6OY0I2MnmrI"
      },
      "source": [
        "10. Crie uma variável chamada ```temp_em_graus``` e atribua a temperatura de hoje a ela. Crie uma segunda ```temp_em_f``` e guarde a transformação do valor da primeira variável de graus para Fahrenheit."
      ],
      "id": "K6OY0I2MnmrI"
    },
    {
      "cell_type": "code",
      "metadata": {
        "colab": {
          "base_uri": "https://localhost:8080/"
        },
        "id": "HyC_WlRUjegy",
        "outputId": "74b5c5c3-61ed-405c-ddbf-e0ff26d41a6f"
      },
      "source": [
        "temp_em_graus = 17\n",
        "temp_em_f = (temp_em_graus * (9/5)) + 32\n",
        "\n",
        "print(temp_em_f)"
      ],
      "id": "HyC_WlRUjegy",
      "execution_count": 36,
      "outputs": [
        {
          "output_type": "stream",
          "text": [
            "62.6\n"
          ],
          "name": "stdout"
        }
      ]
    }
  ]
}