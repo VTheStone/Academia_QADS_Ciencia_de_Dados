{
  "nbformat": 4,
  "nbformat_minor": 5,
  "metadata": {
    "kernelspec": {
      "display_name": "Python 3",
      "language": "python",
      "name": "python3"
    },
    "language_info": {
      "codemirror_mode": {
        "name": "ipython",
        "version": 3
      },
      "file_extension": ".py",
      "mimetype": "text/x-python",
      "name": "python",
      "nbconvert_exporter": "python",
      "pygments_lexer": "ipython3",
      "version": "3.8.5"
    },
    "colab": {
      "name": "Aula1_exercicios.ipynb",
      "provenance": []
    }
  },
  "cells": [
    {
      "cell_type": "markdown",
      "metadata": {
        "id": "08351ce7"
      },
      "source": [
        "# Exercícios - Aula 01\n",
        "___\n",
        "\n",
        "1. Crie um algoritmo que represente a árvore abaixo.\n",
        "\n",
        "![](../imgs/arvore.png)\n",
        "\n",
        "1.1 Quando x = 'bacon', y = [1,2,3,4,5,6,7,8,9,10,'a','b','c','d','e','f','g','h'] e z = 15. Qual valor o programa deverá printar?\n",
        "\n",
        "1.2 Quando x='couxeiro', y = [[1,2,3,4,5],[1,2,3,4,5],[1,2,3,4,5]] e z = 21. Qual valor o programa deverá printar?\n",
        "\n",
        "2. Crie um algoritmo que avalia se um número é ou não divisível por 5. Em caso positivo print 'Fizz' e em caso negativo print 'Buzz'.\n",
        "\n",
        "3. Crie um algoritmo que avalia duas condições, a primeira condição testa se a variável ```x``` é par, a segunda condição avalia se a variável ```y``` é maior que 10, una as duas condições utilizando o operador lógico ```and```. Atribua pelo menos 4 valores diferentes para ```x``` e ```y``` e dê print no resultado.\n",
        "\n",
        "4. Crie um algoritmo que avalia duas condições, a primeira condição testa se a variável ```x``` é divisível por 5.5, a segunda condição avalia se a variável ```y``` é menor ou igual a 5, una as duas condições utilizando o operador lógico ```or```. Atribua pelo menos 4 valores diferentes para ```x``` e ```y``` e dê print no resultado.\n",
        "\n",
        "5. Uma escola tem a seguintes regras de avaliação:\n",
        "* Notas abaixo de 24 -> F\n",
        "* De 25 a 44 -> E\n",
        "* De 45 a 49 -> D\n",
        "* De 50 a 59 -> C\n",
        "* De 60 a 79 -> B\n",
        "* Acima de 80 -> B\n",
        "\n",
        "Crie um algoritmo para avaliar a nota de um aluno atribuida a variável ```nota_aluno```, teste pelo menos 5 notas diferentes.\n",
        "\n",
        "6. A promoção de inverno começou na loja Magazine Luciana, aproveitando essa situação você decidiu comprar um número ```x``` de potes de Toddy, o valor de cada pote é de R\\$5.99. A loja te dará um desconto de 10% no valor total se você comprar mais do que 10 potes. Monte um algoritmo que pergunta quantos potes você quer comprar, calcula o valor total (levando em consideração os descontos) e printa o valor a ser pago pelo pedido.\n",
        "\n",
        "7. Crie um algoritmo que pergunte para o usuário a quantidade de aulas dadas em um semestre, a quantidade de aulas que ele participou. Caso o aluno tenha participado de pelo menos 75% das aulas imprima \"Aluno aprovado\", em caso negativo, imprima \"Aluno reprovado\".\n",
        "\n",
        "8. Crie um algoritmo que avalie se um ano ```ano_corrente``` é ou não ano bissexto. Teste com pelo menos 5 anos."
      ],
      "id": "08351ce7"
    },
    {
      "cell_type": "markdown",
      "metadata": {
        "id": "Mzs0YDaKxUcq"
      },
      "source": [
        "# Resolução"
      ],
      "id": "Mzs0YDaKxUcq"
    },
    {
      "cell_type": "markdown",
      "metadata": {
        "id": "gE1CCzihwS71"
      },
      "source": [
        "1. Crie um algoritmo que represente a árvore abaixo.\n",
        "\n",
        "![](../imgs/arvore.png)"
      ],
      "id": "gE1CCzihwS71"
    },
    {
      "cell_type": "code",
      "metadata": {
        "id": "xou47XLIyoa6"
      },
      "source": [
        "def arvore(x, y, z):\n",
        "  if x[0] == 'b':\n",
        "    if len(y) >= 15:\n",
        "      print('Resultado1')\n",
        "    else:\n",
        "      if z%2 == 0:\n",
        "        print('Resultado1')\n",
        "      else:\n",
        "        print('resultado2')\n",
        "  else:\n",
        "    if x[1] == 'a':\n",
        "      print('resultado1')\n",
        "    else:\n",
        "      print('resultado2')\n"
      ],
      "id": "xou47XLIyoa6",
      "execution_count": 3,
      "outputs": []
    },
    {
      "cell_type": "markdown",
      "metadata": {
        "id": "Xjs0__acxuaw"
      },
      "source": [
        "1.1 Quando x = 'bacon', y = [1,2,3,4,5,6,7,8,9,10,'a','b','c','d','e','f','g','h'] e z = 15. Qual valor o programa deverá printar?"
      ],
      "id": "Xjs0__acxuaw"
    },
    {
      "cell_type": "code",
      "metadata": {
        "colab": {
          "base_uri": "https://localhost:8080/"
        },
        "id": "_qU8OyYGxsfj",
        "outputId": "26f55445-ba7d-467a-d541-c15f531656ce"
      },
      "source": [
        "arvore('bacon',  [1,2,3,4,5,6,7,8,9,10,'a','b','c','d','e','f','g','h'], 15)"
      ],
      "id": "_qU8OyYGxsfj",
      "execution_count": 4,
      "outputs": [
        {
          "output_type": "stream",
          "text": [
            "Resultado1\n"
          ],
          "name": "stdout"
        }
      ]
    },
    {
      "cell_type": "markdown",
      "metadata": {
        "id": "dCcsJGnAxxV5"
      },
      "source": [
        "1.2 Quando x='couxeiro', y = [[1,2,3,4,5],[1,2,3,4,5],[1,2,3,4,5]] e z = 21. Qual valor o programa deverá printar?"
      ],
      "id": "dCcsJGnAxxV5"
    },
    {
      "cell_type": "code",
      "metadata": {
        "colab": {
          "base_uri": "https://localhost:8080/"
        },
        "id": "9tAU2w4RwV7H",
        "outputId": "f4ba0604-1310-4684-a38e-9f20cb607437"
      },
      "source": [
        "arvore('couxeiro',  [[1,2,3,4,5],[1,2,3,4,5],[1,2,3,4,5]], 21)"
      ],
      "id": "9tAU2w4RwV7H",
      "execution_count": 5,
      "outputs": [
        {
          "output_type": "stream",
          "text": [
            "resultado2\n"
          ],
          "name": "stdout"
        }
      ]
    },
    {
      "cell_type": "markdown",
      "metadata": {
        "id": "eghx8Xy4wWbj"
      },
      "source": [
        "2. Crie um algoritmo que avalia se um número é ou não divisível por 5. Em caso positivo print 'Fizz' e em caso negativo print 'Buzz'."
      ],
      "id": "eghx8Xy4wWbj"
    },
    {
      "cell_type": "code",
      "metadata": {
        "colab": {
          "base_uri": "https://localhost:8080/"
        },
        "id": "pW_ClDWZwYBx",
        "outputId": "24d0941f-c6a9-4c48-b684-4a5d5825fd89"
      },
      "source": [
        "def divisivel_5(x):\n",
        "  if x%5 == 0:\n",
        "    print('Fizz')\n",
        "  else:\n",
        "    print('Buzz')\n",
        "\n",
        "divisivel_5(275)"
      ],
      "id": "pW_ClDWZwYBx",
      "execution_count": 8,
      "outputs": [
        {
          "output_type": "stream",
          "text": [
            "Fizz\n"
          ],
          "name": "stdout"
        }
      ]
    },
    {
      "cell_type": "markdown",
      "metadata": {
        "id": "j3f3lYQjwYcT"
      },
      "source": [
        "3. Crie um algoritmo que avalia duas condições, a primeira condição testa se a variável ```x``` é par, a segunda condição avalia se a variável ```y``` é maior que 10, una as duas condições utilizando o operador lógico ```and```. Atribua pelo menos 4 valores diferentes para ```x``` e ```y``` e dê print no resultado."
      ],
      "id": "j3f3lYQjwYcT"
    },
    {
      "cell_type": "code",
      "metadata": {
        "colab": {
          "base_uri": "https://localhost:8080/"
        },
        "id": "AbxTCu59wbcR",
        "outputId": "6c29b3ca-f7f9-46e6-84eb-a207eea74fbb"
      },
      "source": [
        "def duas_condicoes(x, y):\n",
        "  if ((x%2 == 0) and (y > 10)):\n",
        "    print('verdadeiro')\n",
        "  else:\n",
        "    print('falso')\n",
        "\n",
        "duas_condicoes(4, 12)\n",
        "duas_condicoes(3, 12)\n",
        "duas_condicoes(4, 9)\n",
        "duas_condicoes(3, 9)"
      ],
      "id": "AbxTCu59wbcR",
      "execution_count": 19,
      "outputs": [
        {
          "output_type": "stream",
          "text": [
            "verdadeiro\n",
            "falso\n",
            "falso\n",
            "falso\n"
          ],
          "name": "stdout"
        }
      ]
    },
    {
      "cell_type": "markdown",
      "metadata": {
        "id": "YDQ-0rnGwZHd"
      },
      "source": [
        "4. Crie um algoritmo que avalia duas condições, a primeira condição testa se a variável ```x``` é divisível por 5.5, a segunda condição avalia se a variável ```y``` é menor ou igual a 5, una as duas condições utilizando o operador lógico ```or```. Atribua pelo menos 4 valores diferentes para ```x``` e ```y``` e dê print no resultado."
      ],
      "id": "YDQ-0rnGwZHd"
    },
    {
      "cell_type": "code",
      "metadata": {
        "colab": {
          "base_uri": "https://localhost:8080/"
        },
        "id": "51rNQsIwwdg6",
        "outputId": "fbf2150c-d9f9-4f1e-d422-5a717f2d67f8"
      },
      "source": [
        "def duas_condicoes_2(x, y):\n",
        "  if ((x%5.5 == 0) or (y <= 5)):\n",
        "    print('verdadeiro')\n",
        "  else:\n",
        "    print('falso')\n",
        "  \n",
        "duas_condicoes_2(11, 4)\n",
        "duas_condicoes_2(11, 6)\n",
        "duas_condicoes_2(10, 4)\n",
        "duas_condicoes_2(10, 6)"
      ],
      "id": "51rNQsIwwdg6",
      "execution_count": 23,
      "outputs": [
        {
          "output_type": "stream",
          "text": [
            "verdadeiro\n",
            "verdadeiro\n",
            "verdadeiro\n",
            "falso\n"
          ],
          "name": "stdout"
        }
      ]
    },
    {
      "cell_type": "markdown",
      "metadata": {
        "id": "6bfmyCXDwd8R"
      },
      "source": [
        "5. Uma escola tem a seguintes regras de avaliação:\n",
        "* Notas abaixo de 24 -> F\n",
        "* De 25 a 44 -> E\n",
        "* De 45 a 49 -> D\n",
        "* De 50 a 59 -> C\n",
        "* De 60 a 79 -> B\n",
        "* Acima de 80 -> B\n",
        "\n",
        "Crie um algoritmo para avaliar a nota de um aluno atribuida a variável ```nota_aluno```, teste pelo menos 5 notas diferentes."
      ],
      "id": "6bfmyCXDwd8R"
    },
    {
      "cell_type": "code",
      "metadata": {
        "colab": {
          "base_uri": "https://localhost:8080/"
        },
        "id": "E5QXTVJMwfoN",
        "outputId": "5a856c99-4c45-4e32-ff41-3f78adfc40d5"
      },
      "source": [
        "def regra_avaliacao(nota):\n",
        "  if nota <= 24:\n",
        "    print('F')\n",
        "  elif nota <= 44:\n",
        "    print('E')\n",
        "  elif nota <= 49:\n",
        "    print('D')\n",
        "  elif nota <= 59:\n",
        "    print('C')\n",
        "  elif nota <= 79:\n",
        "    print('B')\n",
        "  else:\n",
        "    print('A')\n",
        "\n",
        "regra_avaliacao(24)\n",
        "regra_avaliacao(25)\n",
        "regra_avaliacao(49)\n",
        "regra_avaliacao(55)\n",
        "regra_avaliacao(78)\n",
        "regra_avaliacao(91)"
      ],
      "id": "E5QXTVJMwfoN",
      "execution_count": 29,
      "outputs": [
        {
          "output_type": "stream",
          "text": [
            "F\n",
            "E\n",
            "D\n",
            "C\n",
            "B\n",
            "A\n"
          ],
          "name": "stdout"
        }
      ]
    },
    {
      "cell_type": "markdown",
      "metadata": {
        "id": "4SNYNfykwgdC"
      },
      "source": [
        "6. A promoção de inverno começou na loja Magazine Luciana, aproveitando essa situação você decidiu comprar um número ```x``` de potes de Toddy, o valor de cada pote é de R\\$5.99. A loja te dará um desconto de 10% no valor total se você comprar mais do que 10 potes. Monte um algoritmo que pergunta quantos potes você quer comprar, calcula o valor total (levando em consideração os descontos) e printa o valor a ser pago pelo pedido."
      ],
      "id": "4SNYNfykwgdC"
    },
    {
      "cell_type": "code",
      "metadata": {
        "colab": {
          "base_uri": "https://localhost:8080/"
        },
        "id": "dB3utbAGwiDK",
        "outputId": "aa409b67-6252-43cc-b82f-af00723688b3"
      },
      "source": [
        "quantidade = int(input('Quantos potes de toddy você quer comprar? '))\n",
        "\n",
        "desconto = 0.1 # 10%\n",
        "\n",
        "if quantidade > 10:\n",
        "  valor_total = (quantidade * 5.99) - (quantidade * 5.99) * desconto\n",
        "  \n",
        "else:\n",
        "  valor_total = quantidade * 5.99\n",
        "\n",
        "\n",
        "print(f'O valor total fica: {round(valor_total, 2)}')"
      ],
      "id": "dB3utbAGwiDK",
      "execution_count": 36,
      "outputs": [
        {
          "output_type": "stream",
          "text": [
            "Quantos potes de toddy você quer comprar? 11\n",
            "O valor total fica: 59.3\n"
          ],
          "name": "stdout"
        }
      ]
    },
    {
      "cell_type": "markdown",
      "metadata": {
        "id": "haGbgnbIwijA"
      },
      "source": [
        "7. Crie um algoritmo que pergunte para o usuário a quantidade de aulas dadas em um semestre, a quantidade de aulas que ele participou. Caso o aluno tenha participado de pelo menos 75% das aulas imprima \"Aluno aprovado\", em caso negativo, imprima \"Aluno reprovado\"."
      ],
      "id": "haGbgnbIwijA"
    },
    {
      "cell_type": "code",
      "metadata": {
        "colab": {
          "base_uri": "https://localhost:8080/"
        },
        "id": "v0BIP9V_wj63",
        "outputId": "71ca22ce-3014-401e-d1a4-babe01bfcd82"
      },
      "source": [
        "aulas_dadas = int(input('Quantas aulas foram dadas no semestre? '))\n",
        "aulas_participadas = int(input('Quantas aulas você participou no semestre? '))\n",
        "\n",
        "if (aulas_participadas / aulas_dadas) >= 0.75:\n",
        "  print('Aluno aprovado')\n",
        "else:\n",
        "  print('Aluno reprovado')"
      ],
      "id": "v0BIP9V_wj63",
      "execution_count": 38,
      "outputs": [
        {
          "output_type": "stream",
          "text": [
            "Quantas aulas foram dadas no semestre? 8\n",
            "Quantas aulas você participou no semestre? 5\n",
            "Aluno reprovado\n"
          ],
          "name": "stdout"
        }
      ]
    },
    {
      "cell_type": "markdown",
      "metadata": {
        "id": "AOqLtrJCwlNF"
      },
      "source": [
        "8. Crie um algoritmo que avalie se um ano ```ano_corrente``` é ou não ano bissexto. Teste com pelo menos 5 anos.\n"
      ],
      "id": "AOqLtrJCwlNF"
    },
    {
      "cell_type": "code",
      "metadata": {
        "colab": {
          "base_uri": "https://localhost:8080/"
        },
        "id": "roK5I_zBwlih",
        "outputId": "21dc5444-c662-4082-9f6d-b674c8008458"
      },
      "source": [
        "def ano_bissexto(ano_corrente):\n",
        "  if ano_corrente%4 == 0:\n",
        "    if ano_corrente%100 ==0:\n",
        "      if ano_corrente%400 ==0:\n",
        "        print(f'{ano_corrente} é um ano bissexto')\n",
        "      else:\n",
        "        print(f'{ano_corrente} não é um ano bissexto')\n",
        "    else:\n",
        "      print(f'{ano_corrente} é um ano bissexto')\n",
        "  else:\n",
        "    print(f'{ano_corrente} não é um ano bissexto')\n",
        "\n",
        "ano_bissexto(2004)\n",
        "ano_bissexto(2003)\n",
        "ano_bissexto(2100)\n",
        "ano_bissexto(2400)"
      ],
      "id": "roK5I_zBwlih",
      "execution_count": 40,
      "outputs": [
        {
          "output_type": "stream",
          "text": [
            "2004 é um ano bissexto\n",
            "2003 não é um ano bissexto\n",
            "2100 não é um ano bissexto\n",
            "2400 é um ano bissexto\n"
          ],
          "name": "stdout"
        }
      ]
    }
  ]
}